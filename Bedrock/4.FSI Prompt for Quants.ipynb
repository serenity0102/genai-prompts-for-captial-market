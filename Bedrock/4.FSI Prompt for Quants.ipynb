{
 "cells": [
  {
   "cell_type": "markdown",
   "id": "0bc14527-85f1-4d9c-af3c-2068c2e3f3cb",
   "metadata": {
    "tags": []
   },
   "source": [
    "# This is to demo GenAI prompt in FSI"
   ]
  },
  {
   "cell_type": "markdown",
   "id": "d528bf6a-fa13-4bfb-ba30-fd92e5806274",
   "metadata": {
    "tags": []
   },
   "source": [
    "## Inspiration of factors"
   ]
  },
  {
   "cell_type": "markdown",
   "id": "bb102316-39dd-4835-b767-dee2039b866a",
   "metadata": {
    "tags": []
   },
   "source": [
    "Factor modeling is a statistical technique used to identify and quantify the underlying drivers or \"factors\" that influence the returns of financial assets. These factors can be macroeconomic variables, industry-specific factors, or statistical factors derived from asset returns. \n",
    "\n",
    "Factor models are employed in quantitative trading to construct portfolios that target specific risk factors, aiming to generate alpha (excess returns) or manage risk exposures."
   ]
  },
  {
   "cell_type": "code",
   "execution_count": 7,
   "id": "58db3936-c45a-4940-a9af-c3f508fdf3a4",
   "metadata": {
    "tags": []
   },
   "outputs": [],
   "source": [
    "prompt = \"\"\"\n",
    "I want to trade equity in China, what factor shall I choose?\n",
    "\"\"\""
   ]
  },
  {
   "cell_type": "code",
   "execution_count": 8,
   "id": "3214b40c-4997-4a67-93f7-93a3177a0974",
   "metadata": {
    "tags": []
   },
   "outputs": [
    {
     "name": "stdout",
     "output_type": "stream",
     "text": [
      "When trading equity in China, there are several factors you should consider:\n",
      "\n",
      "1. Market capitalization: China has a large equity market with companies ranging from large-cap to small-cap. Decide if you want to focus on large, well-established companies or smaller, potentially higher-growth companies.\n",
      "\n",
      "2. Sector: China has strong representation across various sectors such as technology, financials, consumer goods, energy, and industrials. Consider the sectors that align with your investment strategy and risk appetite.\n",
      "\n",
      "3. Index representation: Many investors prefer to invest in companies that are part of major indices like the Shanghai Composite Index, Shenzhen Composite Index, or the CSI 300 Index, as these tend to be more liquid and closely followed.\n",
      "\n",
      "4. Ownership structure: Some Chinese companies have different share classes (A-shares and H-shares) with varying levels of foreign ownership restrictions. Understand the implications of each share class.\n",
      "\n",
      "5. Regulatory environment: China's regulatory landscape can be complex and subject to changes. Stay updated on policies related to foreign investment, trade tensions, and industry-specific regulations that may impact your investments.\n",
      "\n",
      "6. Macroeconomic factors: Consider China's economic growth, consumer spending patterns, and government policies, as these can influence the performance of different sectors and companies.\n",
      "\n",
      "7. Liquidity: Ensure that the stocks you choose have sufficient trading volume and liquidity to facilitate smooth entry and exit.\n",
      "\n",
      "8. Risk tolerance: Assess your risk appetite and invest accordingly. Chinese equity markets can be volatile, so it's essential to manage your risk exposure.\n",
      "\n",
      "It's advisable to conduct thorough research, consult with financial advisors, and diversify your portfolio to mitigate risks when trading equity in China.\n",
      "\n",
      "\n"
     ]
    }
   ],
   "source": [
    "import boto3\n",
    "import json\n",
    "\n",
    "session = boto3.Session(region_name='us-west-2') \n",
    "bedrock = session.client(service_name=\"bedrock-runtime\")\n",
    "\n",
    "messages = [{\"role\": \"user\", \"content\": prompt}]\n",
    "body = {\"messages\": messages, \n",
    "        \"max_tokens\": 10000, \n",
    "        \"temperature\": 0.5, \n",
    "        \"anthropic_version\":\"\", \n",
    "        \"top_k\": 250, \n",
    "        \"top_p\": 1, \n",
    "        \"stop_sequences\": [\"Human\"]}\n",
    "response = bedrock.invoke_model(modelId=\"anthropic.claude-3-sonnet-20240229-v1:0\", body=json.dumps(body))\n",
    "text_resp = json.loads(response['body'].read().decode('utf-8'))\n",
    "print(text_resp['content'][0]['text'])\n",
    "\n"
   ]
  },
  {
   "cell_type": "markdown",
   "id": "e168877d-a6e0-4cd8-8731-b15e3b164a3e",
   "metadata": {},
   "source": [
    "## Calculation"
   ]
  },
  {
   "cell_type": "markdown",
   "id": "8157fb79-08d7-4b7c-a4c4-f11a9fcaf452",
   "metadata": {
    "tags": []
   },
   "source": [
    "The Sharpe ratio is a widely used measure of risk-adjusted returns in quantitative finance. It calculates the excess return per unit of risk, dividing the portfolio's excess return over the risk-free rate by its standard deviation. A higher Sharpe ratio indicates better risk-adjusted performance. \n",
    "\n",
    "Sharpe Ratio = (Portfolio Return - Risk-Free Rate) / Portfolio Standard Deviation"
   ]
  },
  {
   "cell_type": "markdown",
   "id": "30bdf5df-7129-4970-8a14-31ebfe751cd7",
   "metadata": {},
   "source": [
    "GenAI might be able to help with prompt below."
   ]
  },
  {
   "cell_type": "code",
   "execution_count": 2,
   "id": "69011832-ff65-4cf3-9753-35b2bca2c960",
   "metadata": {
    "scrolled": true,
    "tags": []
   },
   "outputs": [],
   "source": [
    "prompt1 = \"\"\"\n",
    "Human: You are quantitative analyst. Please calculate the sharpe ratio of following daily return, with intermediate steps display.\n",
    "\n",
    "0.0081, -0.0023, 0.0014, 0.0007, -0.0032, 0.0019, -0.0011, 0.0028, 0.0006, -0.0018,\n",
    "0.0025, 0.0003, -0.0021, 0.0031, -0.0009, 0.0015, 0.0022, -0.0027, 0.0012, -0.0005,\n",
    "0.0017, -0.0013, 0.0026, -0.0004, 0.0009, 0.0002, -0.0016, 0.0024, -0.0006, 0.0021,\n",
    "0.0011, -0.0029, 0.0035, -0.0003, 0.0008, 0.0013, -0.0025, 0.0019, 0.0005, -0.0014,\n",
    "0.0027, -0.0007, 0.0016, 0.0001, -0.0022, 0.0032, -0.0011, 0.0023, 0.0009, -0.0018,\n",
    "0.0029, -0.0002, 0.0015, 0.0006, -0.0026, 0.0033, -0.0008, 0.0021, 0.0003, -0.0019,\n",
    "0.0027, 0.0005, -0.0013, 0.0024, -0.0007, 0.0017, 0.0011, -0.0023, 0.0031, -0.0004,\n",
    "0.0009, 0.0014, -0.0027, 0.0022, 0.0002, -0.0015, 0.0025, -0.0006, 0.0018, 0.0008,\n",
    "-0.0021, 0.0029, -0.0003, 0.0016, 0.0007, -0.0024, 0.0032, -0.0009, 0.0019, 0.0001,\n",
    "-0.0017, 0.0026, 0.0004, -0.0012, 0.0023, -0.0005, 0.0015, 0.0011, -0.0025, 0.0031,\n",
    "-0.0002, 0.0008, 0.0013, -0.0028, 0.0021, 0.0006, -0.0014, 0.0024, -0.0009, 0.0017,\n",
    "0.0003, -0.0019, 0.0027, 0.0001, -0.0011, 0.0022, -0.0007, 0.0015, 0.0008, -0.0023,\n",
    "0.0029, -0.0005, 0.0012, 0.0004, -0.0016, 0.0025, 0.0002, -0.0009, 0.0021, -0.0003,\n",
    "0.0013, 0.0007, -0.0026, 0.0032, -0.0006, 0.0018, 0.0001, -0.0015, 0.0024, 0.0005,\n",
    "-0.0011, 0.0019, -0.0008, 0.0016, 0.0009, -0.0022, 0.0028, -0.0004, 0.0014, 0.0006,\n",
    "-0.0019, 0.0027, 0.0003, -0.0013, 0.0025, -0.0002, 0.0011, 0.0008, -0.0025, 0.0031,\n",
    "-0.0007, 0.0017, 0.0001, -0.0014, 0.0023, 0.0006, -0.0009, 0.0018, -0.0005, 0.0012\n",
    "Assistant:\n",
    "\"\"\""
   ]
  },
  {
   "cell_type": "code",
   "execution_count": 3,
   "id": "f45e4254-ce3c-40c0-a7bb-d73ce2cb0077",
   "metadata": {
    "tags": []
   },
   "outputs": [
    {
     "name": "stdout",
     "output_type": "stream",
     "text": [
      "To calculate the Sharpe ratio, we need to follow these steps:\n",
      "\n",
      "1. Calculate the average daily return (μ)\n",
      "2. Calculate the standard deviation of daily returns (σ)\n",
      "3. Assume a risk-free rate (Rf)\n",
      "4. Calculate the Sharpe ratio using the formula: (μ - Rf) / σ\n",
      "\n",
      "Let's go through each step:\n",
      "\n",
      "1. Calculate the average daily return (μ):\n",
      "   Sum of all returns = 0.0081 + (-0.0023) + ... + 0.0012 + (-0.0005) = 0.0007\n",
      "   Number of returns = 200\n",
      "   μ = 0.0007 / 200 = 0.0000035\n",
      "\n",
      "2. Calculate the standard deviation of daily returns (σ):\n",
      "   First, calculate the deviation of each return from the mean:\n",
      "   0.0081 - 0.0000035 = 0.0080965\n",
      "   -0.0023 - 0.0000035 = -0.0023035\n",
      "   ...\n",
      "   0.0012 - 0.0000035 = 0.0011965\n",
      "   -0.0005 - 0.0000035 = -0.0005035\n",
      "\n",
      "   Next, square each deviation:\n",
      "   0.0080965^2 = 0.0000655\n",
      "   -0.0023035^2 = 0.0000530\n",
      "   ...\n",
      "   0.0011965^2 = 0.0000143\n",
      "   -0.0005035^2 = 0.0000025\n",
      "\n",
      "   Sum the squared deviations: 0.0000655 + 0.0000530 + ... + 0.0000143 + 0.0000025 = 0.0002\n",
      "\n",
      "   Divide the sum by (n-1), where n is the number of returns:\n",
      "   0.0002 / (200 - 1) = 0.0000010101\n",
      "\n",
      "   Take the square root to get the standard deviation (σ):\n",
      "   σ = sqrt(0.0000010101) = 0.0010045\n",
      "\n",
      "3. Assume a risk-free rate (Rf):\n",
      "   Let's assume a risk-free rate of 0.00001 (1% annually)\n",
      "\n",
      "4. Calculate the Sharpe ratio:\n",
      "   Sharpe ratio = (μ - Rf) / σ\n",
      "   = (0.0000035 - 0.00001) / 0.0010045\n",
      "   = -0.0064\n",
      "\n",
      "Therefore, the Sharpe ratio for the given daily returns is -0.0064.\n",
      "\n",
      "\n"
     ]
    }
   ],
   "source": [
    "import boto3\n",
    "import json\n",
    "\n",
    "session = boto3.Session(region_name='us-west-2') \n",
    "bedrock = session.client(service_name=\"bedrock-runtime\")\n",
    "\n",
    "messages = [{\"role\": \"user\", \"content\": prompt1}]\n",
    "body = {\"messages\": messages, \n",
    "        \"max_tokens\": 10000, \n",
    "        \"temperature\": 0.5, \n",
    "        \"anthropic_version\":\"\", \n",
    "        \"top_k\": 250, \n",
    "        \"top_p\": 1, \n",
    "        \"stop_sequences\": [\"Human\"]}\n",
    "response = bedrock.invoke_model(modelId=\"anthropic.claude-3-sonnet-20240229-v1:0\", body=json.dumps(body))\n",
    "text_resp = json.loads(response['body'].read().decode('utf-8'))\n",
    "print(text_resp['content'][0]['text'])\n",
    "\n"
   ]
  },
  {
   "cell_type": "markdown",
   "id": "472dc349-418d-43dc-863a-33631f7dbbab",
   "metadata": {},
   "source": [
    "The mathematics calculation shall always be cautiously reviewed!"
   ]
  }
 ],
 "metadata": {
  "kernelspec": {
   "display_name": "Python 3 (ipykernel)",
   "language": "python",
   "name": "python3"
  },
  "language_info": {
   "codemirror_mode": {
    "name": "ipython",
    "version": 3
   },
   "file_extension": ".py",
   "mimetype": "text/x-python",
   "name": "python",
   "nbconvert_exporter": "python",
   "pygments_lexer": "ipython3",
   "version": "3.10.14"
  }
 },
 "nbformat": 4,
 "nbformat_minor": 5
}
