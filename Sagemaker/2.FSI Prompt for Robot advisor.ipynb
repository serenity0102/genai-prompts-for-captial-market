{
 "cells": [
  {
   "cell_type": "markdown",
   "id": "0bc14527-85f1-4d9c-af3c-2068c2e3f3cb",
   "metadata": {
    "tags": []
   },
   "source": [
    "# This is to demo GenAI prompt in FSI"
   ]
  },
  {
   "cell_type": "markdown",
   "id": "d528bf6a-fa13-4bfb-ba30-fd92e5806274",
   "metadata": {
    "tags": []
   },
   "source": [
    "## Financial Robot Advisor"
   ]
  },
  {
   "cell_type": "markdown",
   "id": "8157fb79-08d7-4b7c-a4c4-f11a9fcaf452",
   "metadata": {
    "tags": []
   },
   "source": [
    "When a finance event happens (such as financial report release, federal reserve rate adjustment), wealth management relationship manager (RM) needs to give financial advice to their clients, including high net wealth clients, how these events would affect their open portfolio and what action they should take.\n",
    "\n",
    "For example, the RM's client has following portfolio:\n",
    "\n",
    "| Equity | Amount | Average Price | Market Value |\n",
    "| --- | --- | --- | --- |\n",
    "| AAPL.US | 10000 | US$200.00 | US$2,000,000 |\n",
    "| TSLA.US | 5000 | US$200.00 | US$1,000,000 |\n",
    "| AMZN.US | 10000 | US$180.00 | US$1,800,000 |\n",
    "| 0388.HK | 10000 | HK$250.00 | HK$2,500,000 |\n",
    "| 0941.HK | 10000 | HK$30.00 | HK$300,000 |\n",
    "\n",
    "| Bond | Ticker | Market Value |\n",
    "| --- | --- | --- |\n",
    "| Bond 30-Year 0-3/4% Treasury Inflation-Indexed Bond Due 2/15/2045 | GTII30:GOV | $4,000,000 |\n",
    "| AMZN 4.250% 22Aug2057 Corp (USD) | USU02320AK24 | $1,000,000 |\n",
    "\n",
    "When a CIO market view comes out as below\n",
    "```\n",
    "The Federal Reserve has likely reached the peak of its rate-hiking cycle, having raised rates by a cumulative 5.25% since the beginning of 2022 to combat inflation. With inflation steadily trending towards the 2% target and labor market conditions easing, the Fed kept rates unchanged at 5.25%-5.50% in December and hinted at potential rate cuts in the future.\n",
    "\n",
    "The Fed's \"dot plot\" suggests rate cuts may occur slower than initially expected, with the median FOMC member expecting a year-end federal funds rate of 5.0% in 2024, implying one cut this year. The Fed has also lowered its inflation forecasts for 2023, 2024, and 2025, acknowledging that inflation is falling faster than expected and forecasting a soft-landing scenario.\n",
    "```\n",
    "\n",
    "Based on this market view, RM would need to interpret how it impacts the client's portfolio and how the client need to adjust her/his portfolio."
   ]
  },
  {
   "cell_type": "markdown",
   "id": "30bdf5df-7129-4970-8a14-31ebfe751cd7",
   "metadata": {},
   "source": [
    "GenAI might be able to help with prompt below."
   ]
  },
  {
   "cell_type": "code",
   "execution_count": 1,
   "id": "7ff61300-c12b-45fc-916d-f0be084ed26a",
   "metadata": {},
   "outputs": [],
   "source": [
    "import json\n",
    "import boto3\n",
    "newline, bold, unbold = '\\n', '\\033[1m', '\\033[0m'\n",
    "endpoint_name = 'jumpstart-dft-hf-llm-mistral-7b-ins-20240621-021805'\n",
    "model_name='huggingface-llm-mistral-7b-instruct-20240621-021806'\n",
    "def query_endpoint(payload):\n",
    "    client = boto3.client('runtime.sagemaker')\n",
    "    response = client.invoke_endpoint(\n",
    "        EndpointName=endpoint_name, \n",
    "        ContentType='application/json', \n",
    "        Body=json.dumps(payload).encode('utf-8'),\n",
    "        InferenceComponentName=model_name\n",
    "    )\n",
    "    model_predictions = json.loads(response['Body'].read())\n",
    "    generated_text = model_predictions[0]['generated_text']\n",
    "    print (\n",
    "        f\"Generated Text: {bold}{generated_text}{unbold}{newline}\")"
   ]
  },
  {
   "cell_type": "code",
   "execution_count": 2,
   "id": "69011832-ff65-4cf3-9753-35b2bca2c960",
   "metadata": {
    "scrolled": true,
    "tags": []
   },
   "outputs": [],
   "source": [
    "prompt = \"\"\"\n",
    "You are CFA analyst with global financial exposure, helping a high-net-wealth client managing portfolio as below. The client is risk-averse.\n",
    "\n",
    "Open position is as below:\n",
    "Stock:\n",
    "AMZN.US, 10000 shares, US$170, US$1700000\n",
    "TSLA.US, 5000 shares, US$200, US$1000000 \n",
    "VZ.US, 12000 shares, US$50, US$600000 \n",
    "DIS.US, 3000 shares, US$140, US$420000 \n",
    "0388.HK,10000 shares, HK$250, HK$2500000\n",
    "0700.HK, 1000 shares, HK$300, HK$300000\n",
    "\n",
    "Bond:\n",
    "30-Year 0-3/4% Treasury Inflation-Indexed Bond Due 2/15/2045, GTII30:GOV, US$40000000\n",
    "AMZN 4.250% 22Aug2057 Corp (USD), USU02320AK24, US$10000000\n",
    "\n",
    "Following is the most recent CIO market view.\n",
    "<view>\n",
    "The Federal Reserve has likely reached the peak of its rate-hiking cycle, having raised rates by a cumulative 5.25% since the beginning of 2022 to combat inflation. With inflation steadily trending towards the 2% target and labor market conditions easing, the Fed kept rates unchanged at 5.25%-5.50% in December and hinted at potential rate cuts in the future.\n",
    "\n",
    "The Fed's \"dot plot\" suggests rate cuts may occur slower than initially expected, with the median FOMC member expecting a year-end federal funds rate of 5.0% in 2024, implying one cut this year. The Fed has also lowered its inflation forecasts for 2023, 2024, and 2025, acknowledging that inflation is falling faster than expected and forecasting a soft-landing scenario.\n",
    "</view>\n",
    "\n",
    "Based on the CIO market view, please give advice to the risk averse c\n",
    "\"\"\"\n",
    "\n",
    "\n",
    "payload = {\n",
    "    \"inputs\": prompt,\n",
    "    \"parameters\":{\n",
    "        \"max_new_tokens\": 2000,\n",
    "        \"return_full_text\": False,\n",
    "        \"do_sample\": True,\n",
    "        \"top_k\":10\n",
    "        }\n",
    "}\n"
   ]
  },
  {
   "cell_type": "code",
   "execution_count": 3,
   "id": "f45e4254-ce3c-40c0-a7bb-d73ce2cb0077",
   "metadata": {
    "tags": []
   },
   "outputs": [
    {
     "name": "stdout",
     "output_type": "stream",
     "text": [
      "Generated Text: \u001b[1mlient on the following:\n",
      "\n",
      "1. Maintain, sell or buy the existing position (stocks or bonds)\n",
      "2. Add position or sector exposure (recommended stocks or sectors to consider)\n",
      "3. Consider alternative investments.\n",
      "\n",
      "Answer:\n",
      "Based on the CIO market view and the client's risk-averse nature, here is my advice:\n",
      "\n",
      "1. Existing position:\n",
      "Given the Fed's recent dovish tone, the client may consider holding on to their current positions, as there is a potential for stocks to rebound in a less uncertain economic environment. However, it would be prudent to monitor the inflation numbers closely, as a sudden surge could prompt the Fed to reverse its course on rate cuts. Additionally, the client could consider hedging their stock positions with some protective puts to mitigate downside risk.\n",
      "\n",
      "2. Add position or sector exposure:\n",
      "In this market environment, I would recommend adding some defensive sectors to the portfolio, such as Healthcare, Utilities, and Consumer Staples, which are likely to perform well in a more uncertain economic landscape. Specific stock recommendations could include companies like Johnson & Johnson (JNJ), Pfizer (PFE), and Procter & Gamble (PG). Another sector to consider is Technology, especially companies that are less volatile and have strong fundamentals, such as Microsoft (MSFT) and Apple (AAPL).\n",
      "\n",
      "3. Alternative investments:\n",
      "Given the current uncertain economic climate, it may be worth considering alternative investment options, such as gold or inflation-protected securities. The Fed's decision to pause rate hikes suggests that inflation may begin to decline, making gold an attractive hedge against potential future inflation risks. Inflation-protected securities, such as the 30-Year 0-3/4% Treasury Inflation-Indexed Bond the client already holds, can also help protect against inflation risks while offering a modest yield. Another alternative investment to consider is infrastructure, which can offer stable returns and a degree of diversification. Examples of infrastructure stocks that could be considered include NextEra Energy (NEE) and Brookfield Infrastructure Partners (BIP).\u001b[0m\n",
      "\n"
     ]
    }
   ],
   "source": [
    "query_endpoint(payload)"
   ]
  }
 ],
 "metadata": {
  "kernelspec": {
   "display_name": "Python 3 (ipykernel)",
   "language": "python",
   "name": "python3"
  },
  "language_info": {
   "codemirror_mode": {
    "name": "ipython",
    "version": 3
   },
   "file_extension": ".py",
   "mimetype": "text/x-python",
   "name": "python",
   "nbconvert_exporter": "python",
   "pygments_lexer": "ipython3",
   "version": "3.10.14"
  }
 },
 "nbformat": 4,
 "nbformat_minor": 5
}
