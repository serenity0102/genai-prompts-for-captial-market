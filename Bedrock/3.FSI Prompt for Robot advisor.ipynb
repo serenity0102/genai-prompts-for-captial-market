{
 "cells": [
  {
   "cell_type": "markdown",
   "id": "0bc14527-85f1-4d9c-af3c-2068c2e3f3cb",
   "metadata": {
    "tags": []
   },
   "source": [
    "# This is to demo GenAI prompt in FSI"
   ]
  },
  {
   "cell_type": "markdown",
   "id": "d528bf6a-fa13-4bfb-ba30-fd92e5806274",
   "metadata": {
    "tags": []
   },
   "source": [
    "## Financial Robot Advisor"
   ]
  },
  {
   "cell_type": "markdown",
   "id": "8157fb79-08d7-4b7c-a4c4-f11a9fcaf452",
   "metadata": {
    "tags": []
   },
   "source": [
    "When a finance event happens (such as financial report release, federal reserve rate adjustment), wealth management relationship manager (RM) needs to give financial advice to their clients, including high net wealth clients, how these events would affect their open portfolio and what action they should take.\n",
    "\n",
    "For example, the RM's client has following portfolio:\n",
    "\n",
    "| Equity | Amount | Average Price | Market Value |\n",
    "| --- | --- | --- | --- |\n",
    "| AAPL.US | 10000 | US$200.00 | US$2,000,000 |\n",
    "| TSLA.US | 5000 | US$200.00 | US$1,000,000 |\n",
    "| AMZN.US | 10000 | US$180.00 | US$1,800,000 |\n",
    "| 0388.HK | 10000 | HK$250.00 | HK$2,500,000 |\n",
    "| 0941.HK | 10000 | HK$30.00 | HK$300,000 |\n",
    "\n",
    "| Bond | Ticker | Market Value |\n",
    "| --- | --- | --- |\n",
    "| Bond 30-Year 0-3/4% Treasury Inflation-Indexed Bond Due 2/15/2045 | GTII30:GOV | $4,000,000 |\n",
    "| AMZN 4.250% 22Aug2057 Corp (USD) | USU02320AK24 | $1,000,000 |\n",
    "\n",
    "When a CIO market view comes out as below\n",
    "```\n",
    "The Federal Reserve has likely reached the peak of its rate-hiking cycle, having raised rates by a cumulative 5.25% since the beginning of 2022 to combat inflation. With inflation steadily trending towards the 2% target and labor market conditions easing, the Fed kept rates unchanged at 5.25%-5.50% in December and hinted at potential rate cuts in the future.\n",
    "\n",
    "The Fed's \"dot plot\" suggests rate cuts may occur slower than initially expected, with the median FOMC member expecting a year-end federal funds rate of 5.0% in 2024, implying one cut this year. The Fed has also lowered its inflation forecasts for 2023, 2024, and 2025, acknowledging that inflation is falling faster than expected and forecasting a soft-landing scenario.\n",
    "```\n",
    "\n",
    "Based on this market view, RM would need to interpret how it impacts the client's portfolio and how the client need to adjust her/his portfolio."
   ]
  },
  {
   "cell_type": "markdown",
   "id": "30bdf5df-7129-4970-8a14-31ebfe751cd7",
   "metadata": {},
   "source": [
    "GenAI might be able to help with prompt below."
   ]
  },
  {
   "cell_type": "code",
   "execution_count": 1,
   "id": "69011832-ff65-4cf3-9753-35b2bca2c960",
   "metadata": {
    "scrolled": true,
    "tags": []
   },
   "outputs": [],
   "source": [
    "prompt = \"\"\"\n",
    "You are CFA analyst with global financial exposure, helping a high-net-wealth client managing portfolio as below. The client is risk-averse.\n",
    "\n",
    "Open position is as below:\n",
    "Stock:\n",
    "AMZN.US, 10000 shares, US$170, US$1700000\n",
    "TSLA.US, 5000 shares, US$200, US$1000000 \n",
    "VZ.US, 12000 shares, US$50, US$600000 \n",
    "DIS.US, 3000 shares, US$140, US$420000 \n",
    "0388.HK,10000 shares, HK$250, HK$2500000\n",
    "0700.HK, 1000 shares, HK$300, HK$300000\n",
    "\n",
    "Bond:\n",
    "30-Year 0-3/4% Treasury Inflation-Indexed Bond Due 2/15/2045, GTII30:GOV, US$40000000\n",
    "AMZN 4.250% 22Aug2057 Corp (USD), USU02320AK24, US$10000000\n",
    "\n",
    "Following is the most recent CIO market view.\n",
    "<view>\n",
    "The Federal Reserve has likely reached the peak of its rate-hiking cycle, having raised rates by a cumulative 5.25% since the beginning of 2022 to combat inflation. With inflation steadily trending towards the 2% target and labor market conditions easing, the Fed kept rates unchanged at 5.25%-5.50% in December and hinted at potential rate cuts in the future.\n",
    "\n",
    "The Fed's \"dot plot\" suggests rate cuts may occur slower than initially expected, with the median FOMC member expecting a year-end federal funds rate of 5.0% in 2024, implying one cut this year. The Fed has also lowered its inflation forecasts for 2023, 2024, and 2025, acknowledging that inflation is falling faster than expected and forecasting a soft-landing scenario.\n",
    "</view>\n",
    "\n",
    "Based on the CIO market view, please give advice to the risk averse client\n",
    "\"\"\""
   ]
  },
  {
   "cell_type": "code",
   "execution_count": 2,
   "id": "f45e4254-ce3c-40c0-a7bb-d73ce2cb0077",
   "metadata": {
    "tags": []
   },
   "outputs": [
    {
     "name": "stdout",
     "output_type": "stream",
     "text": [
      "Based on the CIO market view and the client's risk-averse profile, I would advise the following:\n",
      "\n",
      "1. Equity Portfolio:\n",
      "   - The technology sector (AMZN and TSLA) may experience some volatility in the short term due to the potential for further rate hikes or slower rate cuts than expected. However, these companies have strong fundamentals and could benefit from a potential economic recovery in the long run.\n",
      "   - VZ (Verizon) and DIS (Disney) are relatively defensive stocks that could provide stability to the portfolio during market fluctuations.\n",
      "   - The Hong Kong-listed stocks (0388.HK and 0700.HK) may be impacted by global economic conditions and geopolitical tensions, but they could also benefit from China's economic recovery.\n",
      "\n",
      "2. Bond Portfolio:\n",
      "   - The 30-Year Treasury Inflation-Indexed Bond (GTII30:GOV) provides protection against inflation, which aligns with the Fed's expectation of inflation trending towards the 2% target. This bond can act as a hedge against potential inflationary pressures.\n",
      "   - The AMZN corporate bond (USU02320AK24) is a relatively high-quality bond issued by a strong company. However, it may be subject to interest rate risk if rates continue to rise or fall more slowly than expected.\n",
      "\n",
      "Recommendations:\n",
      "- Maintain the current equity portfolio, but consider rebalancing periodically to maintain the desired risk-return profile.\n",
      "- Hold the Treasury Inflation-Indexed Bond as a hedge against inflation.\n",
      "- Consider gradually reducing the allocation to the AMZN corporate bond if interest rates continue to rise or fall more slowly than expected, as this may impact the bond's value.\n",
      "- Monitor the portfolio regularly and make adjustments as needed based on market conditions and the client's risk tolerance.\n",
      "\n",
      "It's essential to keep in mind that these recommendations are based on the current market view and the client's risk-averse profile. Regular portfolio reviews and adjustments may be necessary to ensure alignment with the client's investment objectives and risk tolerance.\n",
      "\n",
      "\n"
     ]
    }
   ],
   "source": [
    "import boto3\n",
    "import json\n",
    "\n",
    "session = boto3.Session(region_name='us-west-2') \n",
    "bedrock = session.client(service_name=\"bedrock-runtime\")\n",
    "\n",
    "messages = [{\"role\": \"user\", \"content\": prompt}]\n",
    "body = {\"messages\": messages, \n",
    "        \"max_tokens\": 10000, \n",
    "        \"temperature\": 0.5, \n",
    "        \"anthropic_version\":\"\", \n",
    "        \"top_k\": 250, \n",
    "        \"top_p\": 1, \n",
    "        \"stop_sequences\": [\"Human\"]}\n",
    "response = bedrock.invoke_model(modelId=\"anthropic.claude-3-sonnet-20240229-v1:0\", body=json.dumps(body))\n",
    "text_resp = json.loads(response['body'].read().decode('utf-8'))\n",
    "print(text_resp['content'][0]['text'])\n",
    "\n"
   ]
  },
  {
   "cell_type": "markdown",
   "id": "472dc349-418d-43dc-863a-33631f7dbbab",
   "metadata": {},
   "source": [
    "You can find that Cloude 3 provide the comment on the equity and bond position impact and adjustment advice. Further more, it suggested some commen investment philosophy, such as diversification and risk management. In addition, it gave some 'protective terms', such as maintain your desired risk appetite."
   ]
  }
 ],
 "metadata": {
  "kernelspec": {
   "display_name": "Python 3 (ipykernel)",
   "language": "python",
   "name": "python3"
  },
  "language_info": {
   "codemirror_mode": {
    "name": "ipython",
    "version": 3
   },
   "file_extension": ".py",
   "mimetype": "text/x-python",
   "name": "python",
   "nbconvert_exporter": "python",
   "pygments_lexer": "ipython3",
   "version": "3.10.14"
  }
 },
 "nbformat": 4,
 "nbformat_minor": 5
}
