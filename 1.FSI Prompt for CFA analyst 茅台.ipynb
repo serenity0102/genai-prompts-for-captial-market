{
 "cells": [
  {
   "cell_type": "code",
   "execution_count": 2,
   "id": "47152ff1-877d-4cca-ad5a-c0ade82fd11f",
   "metadata": {
    "tags": []
   },
   "outputs": [],
   "source": [
    "import os\n",
    "os.environ[\"PYTHONWARNINGS\"] = \"ignore:UserWarning:IPython.core.display\"\n"
   ]
  },
  {
   "cell_type": "markdown",
   "id": "0bc14527-85f1-4d9c-af3c-2068c2e3f3cb",
   "metadata": {
    "tags": []
   },
   "source": [
    "# 生成式AI在金融行业的应用"
   ]
  },
  {
   "cell_type": "markdown",
   "id": "d528bf6a-fa13-4bfb-ba30-fd92e5806274",
   "metadata": {
    "tags": []
   },
   "source": [
    "## 基于模板的金融研究报告生成"
   ]
  },
  {
   "cell_type": "markdown",
   "id": "8157fb79-08d7-4b7c-a4c4-f11a9fcaf452",
   "metadata": {
    "tags": []
   },
   "source": [
    "在金融市场，卖方券商需要就目标公司发表研究报告。例如，这是一位来自东亚前海证券的金融分析师对贵州茅台2022年年报的研究报告。"
   ]
  },
  {
   "cell_type": "code",
   "execution_count": 3,
   "id": "d8b080a4-3f81-4a63-9d41-732ca2e449ce",
   "metadata": {
    "tags": []
   },
   "outputs": [
    {
     "data": {
      "text/html": [
       "<iframe src=\"https://pdf.dfcfw.com/pdf/H3_AP202304021585025823_1.pdf?1680599240000.pdf\" width=\"100%\" height=\"600px\"></iframe>"
      ],
      "text/plain": [
       "<IPython.core.display.HTML object>"
      ]
     },
     "execution_count": 3,
     "metadata": {},
     "output_type": "execute_result"
    }
   ],
   "source": [
    "from IPython.display import HTML\n",
    "\n",
    "pdf_path = 'https://pdf.dfcfw.com/pdf/H3_AP202304021585025823_1.pdf?1680599240000.pdf'\n",
    "html = f'<iframe src=\"{pdf_path}\" width=\"100%\" height=\"600px\"></iframe>'\n",
    "HTML(html)\n"
   ]
  },
  {
   "cell_type": "markdown",
   "id": "30bdf5df-7129-4970-8a14-31ebfe751cd7",
   "metadata": {},
   "source": [
    "这份研报中包括：\n",
    "\n",
    "* 事件对财报总结，\n",
    "* 点评提供业绩分析，财务分析，公司治理等，\n",
    "* 投资建议提供一些基于财报的预测，\n",
    "* 最后提供风险提示。\n",
    "\n",
    "现在茅台出了2023年第三季度的财报，金融分析师又需要出一份研报。"
   ]
  },
  {
   "cell_type": "code",
   "execution_count": 6,
   "id": "30bcb5b3-6864-43e4-98e2-30ff664cc1f2",
   "metadata": {
    "tags": []
   },
   "outputs": [
    {
     "data": {
      "text/html": [
       "<iframe src=\"https://d1i7pm9zcth9lt.cloudfront.net/%E8%8C%85%E5%8F%B020231023%E7%AC%AC%E4%B8%89%E5%AD%A3%E5%BA%A6%E8%B4%A2%E6%8A%A5.pdf\" width=\"100%\" height=\"600px\"></iframe>"
      ],
      "text/plain": [
       "<IPython.core.display.HTML object>"
      ]
     },
     "execution_count": 6,
     "metadata": {},
     "output_type": "execute_result"
    }
   ],
   "source": [
    "from IPython.display import HTML\n",
    "\n",
    "pdf_path = 'https://d1i7pm9zcth9lt.cloudfront.net/%E8%8C%85%E5%8F%B020231023%E7%AC%AC%E4%B8%89%E5%AD%A3%E5%BA%A6%E8%B4%A2%E6%8A%A5.pdf'\n",
    "html = f'<iframe src=\"{pdf_path}\" width=\"100%\" height=\"600px\"></iframe>'\n",
    "HTML(html)\n"
   ]
  },
  {
   "cell_type": "code",
   "execution_count": 7,
   "id": "69011832-ff65-4cf3-9753-35b2bca2c960",
   "metadata": {
    "scrolled": true,
    "tags": []
   },
   "outputs": [],
   "source": [
    "prompt1 = \"\"\"\n",
    "您是一名特许金融分析师(CFA),以下是关于贵州茅台(600519)之前的分析报告。\n",
    "\n",
    "<analysis>\n",
    "贵州茅台(600519)\n",
    "\n",
    "1 事件\n",
    "\n",
    "2022年公司实现营业总收入1275.54亿元，同比+16.53%；实现归母净利润627.16亿元，同比+19.55%；实现扣非归母净利润627.92亿元，同比+19.42%。此前公司生产经营情况公告显示，2022年公司预计营业总收入/归母净利润增速+16.20%/+19.33%，实际业绩表现超预期。\n",
    "\n",
    "2 点评\n",
    "\n",
    "公司逆势向上，业绩再创新高。2022年公司逆势增长，业绩及品牌均取得优异成绩。在2022年度凯度BrandZ最具价值中国品牌排行榜，茅台以1084.9亿美元品牌价值位列榜单第三，酒类品牌第一。分产品看，2022年公司茅台酒/系列酒分别实现营收1078.34/159.39亿元，同比分别+15.37%/+26.55%，系列酒营收增速亮眼。分地区看，公司以国内市场为核心，并持续跟进国外市场，2022年国内/国外分别实现营收1195.33/42.40亿元，同比分别+15.56%/+61.91%，在国外市场进一步奠定中国白酒龙头地位。分销售模式看，2022年批发代理与直销分别实现营收743.94/493.79亿元，同比分别-9.31%/105.49%，公司直销业务模式取得重大发展。\n",
    "\n",
    "盈利能力稳中提升，预收亮眼彰显公司强大蓄水池能力。2022年公司毛利率/净利率分别为91.87%/52.68%，同比分别+0.33pct/+0.21pct。期间费用率同比-0.80pct至8.91%，其中销售费用率2.59%（同比+0.09pct）、管理费用率7.07%（同比-0.65pct）、研发费用率0.10%（同比+0.04pct）、财务费用率-1.09%（同比-0.24pct）。销售费用率略有增加，主要系公司加大酱香系列酒广告及市场拓展费；研发费用有所提升，为公司加大新品研发力度，旨在拓宽产品价格带，满足年轻消费者多样化需求。2022年末合同负债相比2021年末/2022年三季报分别同比/环比变动+27.54/+36.35亿元至154.7亿元，彰显公司蓄水池深厚能力。\n",
    "\n",
    "坚持稳中求进工作基调，全年营收目标有望实现。公司2023年经营目标为营收总收入实现同比增长15%左右。从产品上来看，公司积极投放精品酒等非标产品、兔年生肖茅台及新品非标等，有望持续为公司业绩做出贡献。从渠道上来看，i茅台数字营销平台打响公司数字化转型的第一枪，长期来看此类新渠道打开了新的公司业绩增长空间。从产能上看，公司持续进行改革攻坚，积极进行茅台酒产能扩建，为业绩铸造坚实基础。整体来看，公司有望实现全年业绩目标。\n",
    "\n",
    "3 投资建议\n",
    "\n",
    "我们预计公司2023-2025年EPS分别为56.78/65.36/75.14元/股。对应3月31日收盘价，公司2023-2025年PE分别为32.06/27.85/24.22倍，维持“强烈推荐”评级。\n",
    "\n",
    "4 风险提示\n",
    "\n",
    "市场竞争加剧风险；疫情反复风险；居民消费不及预期风险。\n",
    "\n",
    "</analysis>\n",
    "现在,贵州茅台发布了最新的业绩报告。作为一名特许金融分析师,您可以将它们作为模板使用，其中包括\n",
    "事件对财报总结，\n",
    "点评提供金融分析，\n",
    "投资建议提供一些基于财报的预测，\n",
    "最后提供风险提示。\n",
    "请根据最新的财报，为我提供一份最新的研究分析报告。\n",
    "\"\"\""
   ]
  },
  {
   "cell_type": "code",
   "execution_count": 14,
   "id": "f45e4254-ce3c-40c0-a7bb-d73ce2cb0077",
   "metadata": {
    "tags": []
   },
   "outputs": [
    {
     "name": "stdout",
     "output_type": "stream",
     "text": [
      "Here is an updated analysis report on Apple's fiscal Q1 2021 results following the template:\n",
      "\n",
      "Apple's iPhone Sales Rebound in Q1 as Work-From-Home Trend Continues; Maintaining FVE at $85 \n",
      "\n",
      "Apple reported fiscal first-quarter results ahead of our expectations driven by a strong rebound in iPhone sales and continued momentum in services. \n",
      "\n",
      "Revenue of $111.4 billion was up 21% year-over-year, with double-digit growth across all product categories and services. iPhone revenue of $65.6 billion increased 17% despite the delayed launch timing, benefiting from strong demand for the first 5G-enabled iPhone 12 lineup. Services revenue grew 24% to $15.8 billion, with paid subscriptions surpassing 620 million. \n",
      "\n",
      "We are maintaining our $85 fair value estimate for narrow-moat Apple as we incorporate the impressive first-quarter results and outlook. However, shares appear modestly overvalued as we believe some of the recent elevated growth trends may prove unsustainable as we move through 2021.\n",
      "\n",
      "iPhone revenue rebounded sharply following the delayed iPhone 12 launch, with growth across all regions led by a nearly 57% surge in Greater China. Mac and iPad sales remained robust, up 21% and 41% respectively, as work/learn-from-home dynamics persisted. Wearables, home, and accessories increased 30%.\n",
      "\n",
      "Gross margin of 39.8% expanded 170 basis points sequentially due to a favorable product mix. The Americas remained Apple's largest region at $46.3 billion in sales, up 12% year-over-year. Greater China revenue soared 57% to $21.3 billion as 5G proliferation drove strong iPhone 12 demand.\n",
      "\n",
      "Management expects revenue growth to accelerate in the March quarter compared to the 21% growth posted in Q1. We model iPhone revenue growth in the low double digits for fiscal 2021, with continued services strength offsetting an eventual normalization of Mac and iPad demand as more students return to classrooms and employees go back to offices.\n",
      "\n",
      "\n"
     ]
    }
   ],
   "source": [
    "import boto3\n",
    "import json\n",
    "\n",
    "session = boto3.Session(region_name='us-west-2') \n",
    "bedrock = session.client(service_name=\"bedrock-runtime\")\n",
    "\n",
    "messages = [{\"role\": \"user\", \"content\": prompt1}]\n",
    "body = {\"messages\": messages, \n",
    "        \"max_tokens\": 10000, \n",
    "        \"temperature\": 0.5, \n",
    "        \"anthropic_version\":\"\", \n",
    "        \"top_k\": 250, \n",
    "        \"top_p\": 1, \n",
    "        \"stop_sequences\": [\"Human\"]}\n",
    "response = bedrock.invoke_model(modelId=\"anthropic.claude-3-sonnet-20240229-v1:0\", body=json.dumps(body))\n",
    "text_resp = json.loads(response['body'].read().decode('utf-8'))\n",
    "print(text_resp['content'][0]['text'])\n",
    "\n"
   ]
  },
  {
   "cell_type": "markdown",
   "id": "472dc349-418d-43dc-863a-33631f7dbbab",
   "metadata": {},
   "source": [
    "You can find the generated report includes following information as well:\n",
    "* FVE\n",
    "* Revenue analysis by product sectors or region\n",
    "* Gross margin\n",
    "* Analyst view or anticipation\n",
    "\n",
    "Cloud3 correctly understand and calculate the right YOY, such as the Revnew  21% YOY, iPhone 17% YOY, etc.\n",
    "\n",
    "You always needs to verify the output to avoid hullucination. "
   ]
  },
  {
   "cell_type": "markdown",
   "id": "5ce30d01-9073-4d79-88ed-9fdd9f3c76b9",
   "metadata": {},
   "source": [
    "If you are not satisfactory, you can run several times to get multiple generated reports to get inspirations. Following is another sample generated report comparing with the original report by human CFA.\n",
    "\n",
    "![Comparison of CFA report on Apple](https://d1i7pm9zcth9lt.cloudfront.net/CFAreport2.jpg)"
   ]
  }
 ],
 "metadata": {
  "kernelspec": {
   "display_name": "Python 3 (ipykernel)",
   "language": "python",
   "name": "python3"
  },
  "language_info": {
   "codemirror_mode": {
    "name": "ipython",
    "version": 3
   },
   "file_extension": ".py",
   "mimetype": "text/x-python",
   "name": "python",
   "nbconvert_exporter": "python",
   "pygments_lexer": "ipython3",
   "version": "3.10.14"
  }
 },
 "nbformat": 4,
 "nbformat_minor": 5
}
