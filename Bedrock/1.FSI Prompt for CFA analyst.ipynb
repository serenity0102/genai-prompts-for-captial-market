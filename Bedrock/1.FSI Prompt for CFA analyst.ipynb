{
 "cells": [
  {
   "cell_type": "markdown",
   "id": "0bc14527-85f1-4d9c-af3c-2068c2e3f3cb",
   "metadata": {
    "tags": []
   },
   "source": [
    "# This is to demo GenAI prompt in FSI"
   ]
  },
  {
   "cell_type": "markdown",
   "id": "d528bf6a-fa13-4bfb-ba30-fd92e5806274",
   "metadata": {
    "tags": []
   },
   "source": [
    "## Financial Analysis \u000b",
    "Generation by Template"
   ]
  },
  {
   "cell_type": "markdown",
   "id": "8157fb79-08d7-4b7c-a4c4-f11a9fcaf452",
   "metadata": {
    "tags": []
   },
   "source": [
    "Sell side analyst needs to write analysis report regularly, and there are some template that they use. following is a sample report on Apple Q4 2020 by a CFA in MorningStar about its quarterly financial report. \n",
    "\n",
    "\n",
    "![CFA report on Apple](https://d1i7pm9zcth9lt.cloudfront.net/applecfa.png)\n",
    "\n",
    "It mentions:\n",
    "* FVE\n",
    "* Revenue analysis by product sectors or region\n",
    "* Gross margin\n",
    "* Analyst view or anticipation\n",
    "\n",
    "After Apple release a new quarterly report Q1 2021, the CFA would need to write a new analysis report. "
   ]
  },
  {
   "cell_type": "code",
   "execution_count": 1,
   "id": "d8b080a4-3f81-4a63-9d41-732ca2e449ce",
   "metadata": {
    "tags": []
   },
   "outputs": [
    {
     "name": "stderr",
     "output_type": "stream",
     "text": [
      "/home/ec2-user/anaconda3/envs/python3/lib/python3.10/site-packages/IPython/core/display.py:431: UserWarning: Consider using IPython.display.IFrame instead\n",
      "  warnings.warn(\"Consider using IPython.display.IFrame instead\")\n"
     ]
    },
    {
     "data": {
      "text/html": [
       "<iframe src=\"https://d1i7pm9zcth9lt.cloudfront.net/FY21+Q1+Consolidated+Financial+Statements.pdf\" width=\"100%\" height=\"600px\"></iframe>"
      ],
      "text/plain": [
       "<IPython.core.display.HTML object>"
      ]
     },
     "execution_count": 1,
     "metadata": {},
     "output_type": "execute_result"
    }
   ],
   "source": [
    "from IPython.display import HTML\n",
    "\n",
    "pdf_path = 'https://d1i7pm9zcth9lt.cloudfront.net/FY21+Q1+Consolidated+Financial+Statements.pdf'\n",
    "html = f'<iframe src=\"{pdf_path}\" width=\"100%\" height=\"600px\"></iframe>'\n",
    "HTML(html)\n"
   ]
  },
  {
   "cell_type": "markdown",
   "id": "30bdf5df-7129-4970-8a14-31ebfe751cd7",
   "metadata": {},
   "source": [
    "GenAI might be able to help with prompt below."
   ]
  },
  {
   "cell_type": "code",
   "execution_count": 1,
   "id": "69011832-ff65-4cf3-9753-35b2bca2c960",
   "metadata": {
    "scrolled": true,
    "tags": []
   },
   "outputs": [],
   "source": [
    "prompt1 = \"\"\"\n",
    "You are a CFA analyst, and following is an analysis report of 30 Oct 2020. You can use it as a template.\n",
    "\n",
    "<template>\n",
    "Apple’s Mac and iPad Sales Remain Bolstered by Work-From-Home Trend in Q4; Raising FVE to $85\n",
    "\n",
    "Apple reported fiscal fourth-quarter results ahead of our expectations led by Mac and iPad segments.\n",
    "The firm did not provide guidance the last two quarters and again refrained from offering specific guidance due to uncertainty regarding COVID-19. CEO Tim Cook expects iPhone revenue to grow in the December quarter despite the new iPhone 12 being launched a couple of weeks later in the quarter, though he did not specify the magnitude of growth. Meanwhile, all other products and services are expected to grow in the double digits.\n",
    "We are raising our fair value estimate for narrow-moat Apple to $85 per share from $71 as we incorporate a stronger near-term outlook for the Mac and iPad segments due to ongoing work- and learning-from-home dynamics. Nonetheless, we think shares are currently overvalued, as we think recent growth trends could be unsustainable as we enter 2021.\n",
    "Fourth-quarter revenue was up 1% year over year thanks to growth in iPad (46%), Mac (29%), services (16%), and wearables, home, and accessories (21%). Management noted the iPad and Mac segments remained supply constrained, which bodes well for these business lines in the December quarter.\n",
    "Apple’s iPhone sales were understandably down 21% year over year due to the iPhone 12 delay. Apple now has over 585 million paid subscribers to its various services, up 135 million from a year ago, and the firm expects 600 million subs by Dec 2020. Although Greater China was the region most impacted by the absence of the new iPhones for the quarter (total revenue down 29% year over year), non-iPhone sales grew double digits. Gross margin of 38.2% was up 20 basis points sequentially due to a higher mix of services.\n",
    "Management was optimistic revenue from Greater China would grow in the first quarter, particularly as 5G is more mature in the region. We anticipate iPhone revenue for fiscal 2021 will be up in the low teens, though the late launch may shift some sales from the December quarter to the March quarter.\n",
    "</template>\n",
    "\n",
    "Now, apple releases the latest Apple Reports First Quarter Results below.\n",
    "<finance>\n",
    "Apple Inc.\n",
    "CONDENSED CONSOLIDATED STATEMENTS OF OPERATIONS (Unaudited)\n",
    "(In millions, except number of shares which are reflected in thousands and per share amounts)\n",
    "Three Months Ended\n",
    "December 26,\n",
    "2020\n",
    "December 28,\n",
    "2019\n",
    "Net sales:\n",
    "Products $ 95,678 $ 79,104\n",
    "Services 15,761 12,715\n",
    "Total net sales (1) 111,439 91,819\n",
    "Cost of sales:\n",
    "Products 62,130 52,075\n",
    "Services 4,981 4,527\n",
    "Total cost of sales 67,111 56,602\n",
    "Gross margin 44,328 35,217\n",
    "Operating expenses:\n",
    "Research and development 5,163 4,451\n",
    "Selling, general and administrative 5,631 5,197\n",
    "Total operating expenses 10,794 9,648\n",
    "Operating income 33,534 25,569\n",
    "Other income/(expense), net 45 349\n",
    "Income before provision for income taxes 33,579 25,918\n",
    "Provision for income taxes 4,824 3,682\n",
    "Net income $ 28,755 $ 22,236\n",
    "Earnings per share:\n",
    "Basic $ 1.70 $ 1.26\n",
    "Diluted $ 1.68 $ 1.25\n",
    "Shares used in computing earnings per share:\n",
    "Basic 16,935,119 17,660,160\n",
    "Diluted 17,113,688 17,818,417\n",
    "(1) Net sales by reportable segment:\n",
    "Americas $ 46,310 $ 41,367\n",
    "Europe 27,306 23,273\n",
    "Greater China 21,313 13,578\n",
    "Japan 8,285 6,223\n",
    "Rest of Asia Pacific 8,225 7,378\n",
    "Total net sales $ 111,439 $ 91,819\n",
    "(1) Net sales by category:\n",
    "iPhone $ 65,597 $ 55,957\n",
    "Mac 8,675 7,160\n",
    "iPad 8,435 5,977\n",
    "Wearables, Home and Accessories 12,971 10,010\n",
    "Services 15,761 12,715\n",
    "Total net sales $ 111,439 $ 91,819\n",
    "Apple Inc.\n",
    "CONDENSED CONSOLIDATED BALANCE SHEETS (Unaudited)\n",
    "(In millions, except number of shares which are reflected in thousands and par value)\n",
    "December 26,\n",
    "2020\n",
    "September 26,\n",
    "2020\n",
    "ASSETS:\n",
    "Current assets:\n",
    "Cash and cash equivalents $ 36,010 $ 38,016\n",
    "Marketable securities 40,816 52,927\n",
    "Accounts receivable, net 27,101 16,120\n",
    "Inventories 4,973 4,061\n",
    "Vendor non-trade receivables 31,519 21,325\n",
    "Other current assets 13,687 11,264\n",
    "Total current assets 154,106 143,713\n",
    "Non-current assets:\n",
    "Marketable securities 118,745 100,887\n",
    "Property, plant and equipment, net 37,933 36,766\n",
    "Other non-current assets 43,270 42,522\n",
    "Total non-current assets 199,948 180,175\n",
    "Total assets $ 354,054 $ 323,888\n",
    "LIABILITIES AND SHAREHOLDERS’ EQUITY:\n",
    "Current liabilities:\n",
    "Accounts payable $ 63,846 $ 42,296\n",
    "Other current liabilities 48,504 42,684\n",
    "Deferred revenue 7,395 6,643\n",
    "Commercial paper 5,000 4,996\n",
    "Term debt 7,762 8,773\n",
    "Total current liabilities 132,507 105,392\n",
    "Non-current liabilities:\n",
    "Term debt 99,281 98,667\n",
    "Other non-current liabilities 56,042 54,490\n",
    "Total non-current liabilities 155,323 153,157\n",
    "Total liabilities 287,830 258,549\n",
    "Commitments and contingencies\n",
    "Shareholders’ equity:\n",
    "Common stock and additional paid-in capital, $0.00001 par value: 50,400,000 shares\n",
    "authorized; 16,823,263 and 16,976,763 shares issued and outstanding, respectively 51,744 50,779\n",
    "Retained earnings 14,301 14,966\n",
    "Accumulated other comprehensive income/(loss) 179 (406)\n",
    "Total shareholders’ equity 66,224 65,339\n",
    "Total liabilities and shareholders’ equity $ 354,054 $ 323,888\n",
    "Apple Inc.\n",
    "CONDENSED CONSOLIDATED STATEMENTS OF CASH FLOWS (Unaudited)\n",
    "(In millions)\n",
    "Three Months Ended\n",
    "December 26,\n",
    "2020\n",
    "December 28,\n",
    "2019\n",
    "Cash, cash equivalents and restricted cash, beginning balances $ 39,789 $ 50,224\n",
    "Operating activities:\n",
    "Net income 28,755 22,236\n",
    "Adjustments to reconcile net income to cash generated by operating activities:\n",
    "Depreciation and amortization 2,666 2,816\n",
    "Share-based compensation expense 2,020 1,710\n",
    "Deferred income tax benefit (58) (349)\n",
    "Other 25 (142)\n",
    "Changes in operating assets and liabilities:\n",
    "Accounts receivable, net (10,945) 2,015\n",
    "Inventories (950) (28)\n",
    "Vendor non-trade receivables (10,194) 3,902\n",
    "Other current and non-current assets (3,526) (7,054)\n",
    "Accounts payable 21,670 (1,089)\n",
    "Deferred revenue 1,341 985\n",
    "Other current and non-current liabilities 7,959 5,514\n",
    "Cash generated by operating activities 38,763 30,516\n",
    "Investing activities:\n",
    "Purchases of marketable securities (39,800) (37,416)\n",
    "Proceeds from maturities of marketable securities 25,177 19,740\n",
    "Proceeds from sales of marketable securities 9,344 7,280\n",
    "Payments for acquisition of property, plant and equipment (3,500) (2,107)\n",
    "Payments made in connection with business acquisitions, net (9) (958)\n",
    "Other 204 (207)\n",
    "Cash used in investing activities (8,584) (13,668)\n",
    "Financing activities:\n",
    "Proceeds from issuance of common stock — 2\n",
    "Payments for taxes related to net share settlement of equity awards (2,861) (1,379)\n",
    "Payments for dividends and dividend equivalents (3,613) (3,539)\n",
    "Repurchases of common stock (24,775) (20,706)\n",
    "Proceeds from issuance of term debt, net — 2,210\n",
    "Repayments of term debt (1,000) (1,000)\n",
    "Proceeds from/(Repayments of) commercial paper, net 22 (979)\n",
    "Other (22) (16)\n",
    "Cash used in financing activities (32,249) (25,407)\n",
    "Decrease in cash, cash equivalents and restricted cash (2,070) (8,559)\n",
    "Cash, cash equivalents and restricted cash, ending balances $ 37,719 $ 41,665\n",
    "Supplemental cash flow disclosure:\n",
    "Cash paid for income taxes, net $ 1,787 $ 4,393\n",
    "Cash paid for interest $ 619 $ 771\n",
    "</finance>\n",
    "\n",
    "As a CFA analyst, please give me an updated analysis report following the template above.\n",
    "\"\"\""
   ]
  },
  {
   "cell_type": "code",
   "execution_count": 14,
   "id": "f45e4254-ce3c-40c0-a7bb-d73ce2cb0077",
   "metadata": {
    "tags": []
   },
   "outputs": [
    {
     "name": "stdout",
     "output_type": "stream",
     "text": [
      "Here is an updated analysis report on Apple's fiscal Q1 2021 results following the template:\n",
      "\n",
      "Apple's iPhone Sales Rebound in Q1 as Work-From-Home Trend Continues; Maintaining FVE at $85 \n",
      "\n",
      "Apple reported fiscal first-quarter results ahead of our expectations driven by a strong rebound in iPhone sales and continued momentum in services. \n",
      "\n",
      "Revenue of $111.4 billion was up 21% year-over-year, with double-digit growth across all product categories and services. iPhone revenue of $65.6 billion increased 17% despite the delayed launch timing, benefiting from strong demand for the first 5G-enabled iPhone 12 lineup. Services revenue grew 24% to $15.8 billion, with paid subscriptions surpassing 620 million. \n",
      "\n",
      "We are maintaining our $85 fair value estimate for narrow-moat Apple as we incorporate the impressive first-quarter results and outlook. However, shares appear modestly overvalued as we believe some of the recent elevated growth trends may prove unsustainable as we move through 2021.\n",
      "\n",
      "iPhone revenue rebounded sharply following the delayed iPhone 12 launch, with growth across all regions led by a nearly 57% surge in Greater China. Mac and iPad sales remained robust, up 21% and 41% respectively, as work/learn-from-home dynamics persisted. Wearables, home, and accessories increased 30%.\n",
      "\n",
      "Gross margin of 39.8% expanded 170 basis points sequentially due to a favorable product mix. The Americas remained Apple's largest region at $46.3 billion in sales, up 12% year-over-year. Greater China revenue soared 57% to $21.3 billion as 5G proliferation drove strong iPhone 12 demand.\n",
      "\n",
      "Management expects revenue growth to accelerate in the March quarter compared to the 21% growth posted in Q1. We model iPhone revenue growth in the low double digits for fiscal 2021, with continued services strength offsetting an eventual normalization of Mac and iPad demand as more students return to classrooms and employees go back to offices.\n",
      "\n",
      "\n"
     ]
    }
   ],
   "source": [
    "import boto3\n",
    "import json\n",
    "\n",
    "session = boto3.Session(region_name='us-west-2') \n",
    "bedrock = session.client(service_name=\"bedrock-runtime\")\n",
    "\n",
    "messages = [{\"role\": \"user\", \"content\": prompt1}]\n",
    "body = {\"messages\": messages, \n",
    "        \"max_tokens\": 10000, \n",
    "        \"temperature\": 0.5, \n",
    "        \"anthropic_version\":\"\", \n",
    "        \"top_k\": 250, \n",
    "        \"top_p\": 1, \n",
    "        \"stop_sequences\": [\"Human\"]}\n",
    "response = bedrock.invoke_model(modelId=\"anthropic.claude-3-sonnet-20240229-v1:0\", body=json.dumps(body))\n",
    "text_resp = json.loads(response['body'].read().decode('utf-8'))\n",
    "print(text_resp['content'][0]['text'])\n",
    "\n"
   ]
  },
  {
   "cell_type": "markdown",
   "id": "472dc349-418d-43dc-863a-33631f7dbbab",
   "metadata": {},
   "source": [
    "You can find the generated report includes following information as well:\n",
    "* FVE\n",
    "* Revenue analysis by product sectors or region\n",
    "* Gross margin\n",
    "* Analyst view or anticipation\n",
    "\n",
    "Cloud3 correctly understand and calculate the right YOY, such as the Revnew  21% YOY, iPhone 17% YOY, etc.\n",
    "\n",
    "You always needs to verify the output to avoid hullucination. "
   ]
  },
  {
   "cell_type": "markdown",
   "id": "5ce30d01-9073-4d79-88ed-9fdd9f3c76b9",
   "metadata": {},
   "source": [
    "If you are not satisfactory, you can run several times to get multiple generated reports to get inspirations. Following is another sample generated report comparing with the original report by human CFA.\n",
    "\n",
    "![Comparison of CFA report on Apple](https://d1i7pm9zcth9lt.cloudfront.net/CFAreport2.jpg)"
   ]
  }
 ],
 "metadata": {
  "kernelspec": {
   "display_name": "Python 3 (ipykernel)",
   "language": "python",
   "name": "python3"
  },
  "language_info": {
   "codemirror_mode": {
    "name": "ipython",
    "version": 3
   },
   "file_extension": ".py",
   "mimetype": "text/x-python",
   "name": "python",
   "nbconvert_exporter": "python",
   "pygments_lexer": "ipython3",
   "version": "3.10.14"
  }
 },
 "nbformat": 4,
 "nbformat_minor": 5
}
