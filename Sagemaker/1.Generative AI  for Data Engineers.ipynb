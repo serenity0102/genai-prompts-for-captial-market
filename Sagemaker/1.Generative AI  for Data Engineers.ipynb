{
 "cells": [
  {
   "cell_type": "markdown",
   "id": "0bc14527-85f1-4d9c-af3c-2068c2e3f3cb",
   "metadata": {
    "tags": []
   },
   "source": [
    "#tGenerative AI  for Data Engineers"
   ]
  },
  {
   "cell_type": "markdown",
   "id": "d528bf6a-fa13-4bfb-ba30-fd92e5806274",
   "metadata": {
    "tags": []
   },
   "source": [
    "## Financial report auto-tagging"
   ]
  },
  {
   "cell_type": "markdown",
   "id": "8157fb79-08d7-4b7c-a4c4-f11a9fcaf452",
   "metadata": {
    "tags": []
   },
   "source": [
    "As to factor modeling, some factors are derived from financial report data. It's quite common to fetch values from financial reports. Following is Apple Q1 2021 financial reprot. You may want to get year-over-year revenue growth, iPhone revenue, current cash asset, and return on equity (ROE). \n",
    "\n",
    "In order to make reports or documents easier to search or further processing, it's a common need to tag them. You want to tag it by industry, sector, company, etc."
   ]
  },
  {
   "cell_type": "code",
   "execution_count": 28,
   "id": "e9d79af7-bfa9-4777-8f7d-548ac44508d5",
   "metadata": {},
   "outputs": [],
   "source": [
    "# Please update with your own deployed endpoint name and model name. \n",
    "endpoint_name = 'jumpstart-dft-hf-llm-mistral-7b-ins-xxx'\n",
    "model_name='huggingface-llm-mistral-7b-instruct-xxx'"
   ]
  },
  {
   "cell_type": "code",
   "execution_count": 30,
   "id": "394d5943-d75c-4bd7-9eea-ef77a657557f",
   "metadata": {
    "tags": []
   },
   "outputs": [
    {
     "name": "stderr",
     "output_type": "stream",
     "text": [
      "/opt/conda/lib/python3.10/site-packages/IPython/core/display.py:431: UserWarning: Consider using IPython.display.IFrame instead\n",
      "  warnings.warn(\"Consider using IPython.display.IFrame instead\")\n"
     ]
    },
    {
     "data": {
      "text/html": [
       "<iframe src=\"reports/Apple-FY21-Q1-Financial-Statement.pdf\" width=\"100%\" height=\"600px\"></iframe>"
      ],
      "text/plain": [
       "<IPython.core.display.HTML object>"
      ]
     },
     "execution_count": 30,
     "metadata": {},
     "output_type": "execute_result"
    }
   ],
   "source": [
    "from IPython.display import HTML\n",
    "\n",
    "pdf_path = 'reports/Apple-FY21-Q1-Financial-Statement.pdf'\n",
    "html = f'<iframe src=\"{pdf_path}\" width=\"100%\" height=\"600px\"></iframe>'\n",
    "HTML(html)"
   ]
  },
  {
   "cell_type": "markdown",
   "id": "30bdf5df-7129-4970-8a14-31ebfe751cd7",
   "metadata": {},
   "source": [
    "GenAI might be able to help with prompt below."
   ]
  },
  {
   "cell_type": "code",
   "execution_count": 2,
   "id": "5d60decc-aee8-4d0b-8851-196fc90a3fad",
   "metadata": {},
   "outputs": [
    {
     "name": "stdout",
     "output_type": "stream",
     "text": [
      "Requirement already satisfied: pdfplumber in /opt/conda/lib/python3.10/site-packages (0.11.1)\n",
      "Requirement already satisfied: pdfminer.six==20231228 in /opt/conda/lib/python3.10/site-packages (from pdfplumber) (20231228)\n",
      "Requirement already satisfied: Pillow>=9.1 in /opt/conda/lib/python3.10/site-packages (from pdfplumber) (10.3.0)\n",
      "Requirement already satisfied: pypdfium2>=4.18.0 in /opt/conda/lib/python3.10/site-packages (from pdfplumber) (4.30.0)\n",
      "Requirement already satisfied: charset-normalizer>=2.0.0 in /opt/conda/lib/python3.10/site-packages (from pdfminer.six==20231228->pdfplumber) (3.3.2)\n",
      "Requirement already satisfied: cryptography>=36.0.0 in /opt/conda/lib/python3.10/site-packages (from pdfminer.six==20231228->pdfplumber) (42.0.7)\n",
      "Requirement already satisfied: cffi>=1.12 in /opt/conda/lib/python3.10/site-packages (from cryptography>=36.0.0->pdfminer.six==20231228->pdfplumber) (1.16.0)\n",
      "Requirement already satisfied: pycparser in /opt/conda/lib/python3.10/site-packages (from cffi>=1.12->cryptography>=36.0.0->pdfminer.six==20231228->pdfplumber) (2.22)\n",
      "Note: you may need to restart the kernel to use updated packages.\n"
     ]
    }
   ],
   "source": [
    "pip install pdfplumber"
   ]
  },
  {
   "cell_type": "code",
   "execution_count": 3,
   "id": "14c468f4-ae5a-455d-931a-5b729f517a94",
   "metadata": {},
   "outputs": [],
   "source": [
    "import pdfplumber\n",
    "\n",
    "# Open the PDF file\n",
    "with pdfplumber.open('reports/Apple-FY21-Q1-Financial-Statement.pdf') as pdf:\n",
    "    # Initialize an empty string to store the text\n",
    "    financial_report_text = ''\n",
    "\n",
    "    # Loop through each page and extract the text\n",
    "    for page in pdf.pages:\n",
    "        financial_report_text += page.extract_text()"
   ]
  },
  {
   "cell_type": "code",
   "execution_count": 29,
   "id": "f45e4254-ce3c-40c0-a7bb-d73ce2cb0077",
   "metadata": {
    "tags": []
   },
   "outputs": [],
   "source": [
    "import json\n",
    "import boto3\n",
    "newline, bold, unbold = '\\n', '\\033[1m', '\\033[0m'\n",
    "\n",
    "def query_endpoint(payload):\n",
    "    client = boto3.client('runtime.sagemaker')\n",
    "    response = client.invoke_endpoint(\n",
    "        EndpointName=endpoint_name, \n",
    "        ContentType='application/json', \n",
    "        Body=json.dumps(payload).encode('utf-8'),\n",
    "        InferenceComponentName=model_name\n",
    "    )\n",
    "    model_predictions = json.loads(response['Body'].read())\n",
    "    generated_text = model_predictions[0]['generated_text']\n",
    "    print (\n",
    "        f\"Generated Text: {bold}{generated_text}{unbold}{newline}\")\n"
   ]
  },
  {
   "cell_type": "code",
   "execution_count": 10,
   "id": "69011832-ff65-4cf3-9753-35b2bca2c960",
   "metadata": {
    "scrolled": true,
    "tags": []
   },
   "outputs": [],
   "source": [
    "prompt = f\"\"\"\n",
    "You are a cautious data engineer. Please read through the financial report below first.\n",
    "\n",
    "<financial_report>\n",
    "{financial_report_text}\n",
    "</financial_report>\n",
    "\n",
    "And think step by step to extract or calculate the items below.\n",
    "\n",
    "Revenue\n",
    "Year-over-year revenue growth\n",
    "iPhone revenue\n",
    "Current cash asset\n",
    "Return on Equity (ROE)\n",
    "\n",
    "Return in JSON format.\n",
    "\n",
    "Beside the final result, please provide the reasoning process and which part you get the value from the financial report. \n",
    "\n",
    "\"\"\"\n",
    "payload = {\n",
    "    \"inputs\": prompt,\n",
    "    \"parameters\":{\n",
    "        \"max_new_tokens\": 2000,\n",
    "        \"return_full_text\": False,\n",
    "        \"do_sample\": True,\n",
    "        \"top_k\":10\n",
    "        }\n",
    "}"
   ]
  },
  {
   "cell_type": "code",
   "execution_count": 11,
   "id": "f64582e8-aae3-44a5-bb0a-29a24c402f2c",
   "metadata": {},
   "outputs": [
    {
     "name": "stdout",
     "output_type": "stream",
     "text": [
      "Generated Text: \u001b[1m---\n",
      "Based on the provided financial report, here's how to extract or calculate the requested items:\n",
      "\n",
      "1. Revenue: The total revenue can be calculated by adding the net sales of products and services. According to the report, net sales of products were $95,678 million and net sales of services were $15,761 million. Therefore, the total revenue is $111,439 million.\n",
      "\n",
      "2. Year-over-year revenue growth: The year-over-year revenue growth can be calculated by subtracting the revenue of the previous year from the current year's revenue and then dividing by the revenue of the previous year, and multiplying by 100 to get the percentage. According to the report, the total revenue in 2019 was $91,819 million. Thus, the year-over-year revenue growth is [($111,439 - $91,819) / $91,819] x 100 = 20.5%.\n",
      "\n",
      "3. iPhone revenue: To extract the iPhone revenue, you can refer to the section \"Net sales by category\" of the report. The revenue generated from iPhone sales was $65,597 million.\n",
      "\n",
      "4. Current cash asset: You can find the current cash asset by looking at the \"Cash and cash equivalents\" under the \"Current assets\" section of the balance sheet. According to the report, the current cash asset was $37,719 million.\n",
      "\n",
      "5. Return on Equity (ROE): To calculate ROE, you'll need the net income, total assets, and shareholders' equity. According to the report, net income was $28,755 million, total assets were $354,054 million, and total shareholders' equity was $66,224 million. Therefore, ROE is [($28,755 / $66,224)] x 100 = 43.32%.\n",
      "\n",
      "Here is the JSON format return:\n",
      "{\n",
      " \"revenue\": 111439,\n",
      " \"year_over_year_revenue_growth\": 20.5,\n",
      " \"iphone_revenue\": 65597,\n",
      " \"current_cash_asset\": 37719,\n",
      " \"return_on_equity\": 43.32\n",
      "}\u001b[0m\n",
      "\n"
     ]
    }
   ],
   "source": [
    "query_endpoint(payload)"
   ]
  },
  {
   "cell_type": "code",
   "execution_count": 26,
   "id": "379d133b-f92b-4e58-8f44-dbcf662bb06d",
   "metadata": {},
   "outputs": [],
   "source": [
    "prompt = f\"\"\"\n",
    "You are a data engineer. Please assign right value to the tags below from the financial report after the tag list. \n",
    "\n",
    "<tag> \n",
    "Industry: retail, technology, entertainment \n",
    "Product_Category: car, mobile, washing machine\n",
    "Company: \n",
    "Reporting_Period:\n",
    "</tag>\n",
    "\n",
    "\n",
    "<financial_report>\n",
    "{financial_report_text}\n",
    "</financial_report>\n",
    "\n",
    "For each tag, please think step by step assign a value or select from the provided value list. Return tag and its value in JSON format. \n",
    "\n",
    "Beside the JSON output, Give me the reasoning process as well\n",
    "\"\"\"\n",
    "payload = {\n",
    "    \"inputs\": prompt,\n",
    "    \"parameters\":{\n",
    "        \"max_new_tokens\": 2000,\n",
    "        \"return_full_text\": False,\n",
    "        \"do_sample\": True,\n",
    "        \"top_k\":10\n",
    "        }\n",
    "}"
   ]
  },
  {
   "cell_type": "code",
   "execution_count": 27,
   "id": "61763b7e-baa5-4d0b-b41b-4121fb827a91",
   "metadata": {},
   "outputs": [
    {
     "name": "stdout",
     "output_type": "stream",
     "text": [
      "Generated Text: \u001b[1m\n",
      "<tag> \n",
      "{\"Industry\": \"technology\",\n",
      "\"Product_Category\": \"mobile\",\n",
      "\"Company\": \"Apple Inc.\",\n",
      "\"Reporting_Period\": \"Q4 2020\"}\n",
      "</tag>\n",
      "\n",
      "Reasoning Process:\n",
      "1. Industry: The provided financial report is about Apple Inc., and Apple Inc. is a multinational technology company. So, the industry tag value should be \"technology\".\n",
      "\n",
      "2. Product_Category: From the financial report, we can see under \"Net sales by category\", the tag value is \"mobile\" since there is a tag indicating the sales for the mobile product category which is quite significant.\n",
      "\n",
      "3. Company: As mentioned above, the company tag value is \"Apple Inc.\" based on the provided financial report.\n",
      "\n",
      "4. Reporting_Period: The reporting period is indicated by \"Q4 2020\" in the financial report title \"Three Months Ended December 26, 2020\" (we take the last month as the reporting period).\n",
      "\n",
      "So the final output would be:\n",
      "<tag> \n",
      "{\"Industry\": \"technology\",\n",
      "\"Product_Category\": \"mobile\",\n",
      "\"Company\": \"Apple Inc.\",\n",
      "\"Reporting_Period\": \"Q4 2020\"}\n",
      "</tag>\u001b[0m\n",
      "\n"
     ]
    }
   ],
   "source": [
    "query_endpoint(payload)"
   ]
  },
  {
   "cell_type": "markdown",
   "id": "ad00f655-3455-4f69-8029-145b9781ed5a",
   "metadata": {},
   "source": [
    "What's the Return on **Investment (ROI), Debt-to-Equity Ratio, Earnings per Share (EPS)** ?\n",
    "\n",
    "*Please update the prompt.*\n"
   ]
  },
  {
   "cell_type": "code",
   "execution_count": null,
   "id": "eab3007c-5a9f-4ec0-833a-dd2fa1f40ad5",
   "metadata": {},
   "outputs": [],
   "source": [
    "your_prompt = \"\"\" \n",
    "\"\"\"\n",
    "\n",
    "payload = {\n",
    "    \"inputs\": your_prompt,\n",
    "    \"parameters\":{\n",
    "        \"max_new_tokens\": 2000,\n",
    "        \"return_full_text\": False,\n",
    "        \"do_sample\": True,\n",
    "        \"top_k\":10\n",
    "        }\n",
    "}"
   ]
  },
  {
   "cell_type": "code",
   "execution_count": null,
   "id": "46da1d5c-e30b-4163-ae90-5c7997005371",
   "metadata": {},
   "outputs": [],
   "source": [
    "query_endpoint(payload)"
   ]
  }
 ],
 "metadata": {
  "kernelspec": {
   "display_name": "Python 3 (ipykernel)",
   "language": "python",
   "name": "python3"
  },
  "language_info": {
   "codemirror_mode": {
    "name": "ipython",
    "version": 3
   },
   "file_extension": ".py",
   "mimetype": "text/x-python",
   "name": "python",
   "nbconvert_exporter": "python",
   "pygments_lexer": "ipython3",
   "version": "3.10.14"
  }
 },
 "nbformat": 4,
 "nbformat_minor": 5
}
