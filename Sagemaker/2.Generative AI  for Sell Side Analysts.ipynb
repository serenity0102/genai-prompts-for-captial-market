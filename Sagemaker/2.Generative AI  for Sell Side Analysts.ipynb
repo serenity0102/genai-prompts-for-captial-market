{
 "cells": [
  {
   "cell_type": "markdown",
   "id": "0bc14527-85f1-4d9c-af3c-2068c2e3f3cb",
   "metadata": {
    "tags": []
   },
   "source": [
    "# Generative AI"
   ]
  },
  {
   "cell_type": "markdown",
   "id": "d528bf6a-fa13-4bfb-ba30-fd92e5806274",
   "metadata": {
    "tags": []
   },
   "source": [
    "## Financial Analysis \u000b",
    "Generation"
   ]
  },
  {
   "cell_type": "markdown",
   "id": "8157fb79-08d7-4b7c-a4c4-f11a9fcaf452",
   "metadata": {
    "tags": []
   },
   "source": [
    "Sell side analyst needs to write analysis report regularly, and there are some template that they use. following is a sample report on Apple Q4 2020 about its quarterly financial report. \n",
    "\n",
    "```\n",
    "Apple Q4 2020 Results Exceed Expectations; Raising FVE to $145\n",
    "\n",
    "Financial Summary:\n",
    "Apple reported stellar fiscal Q1 2021 results with revenue of $111.4 billion, up 21% year-over-year, easily beating consensus estimates. All product categories saw double-digit growth led by iPhone (up 17% to $65.6B), Services (up 24% to $15.8B), and Wearables/Home/Accessories (up 30% to $13.0B).\n",
    "\n",
    "Recommendation:\n",
    "We reiterate our Buy rating on Apple shares. The stock is currently trading at $137, providing an upside of over 15% from current levels based on our revised $145 fair value estimate.\n",
    "\n",
    "Risk Factors:\n",
    "- Potential supply chain disruptions if COVID-19 situation worsens\n",
    "- Intense competition, especially in 5G smartphones\n",
    "- Regulatory scrutiny around App Store policies"
   ]
  },
  {
   "cell_type": "code",
   "execution_count": 42,
   "id": "4dedad8e-9d56-4381-bf43-b210823d807a",
   "metadata": {},
   "outputs": [],
   "source": [
    "# Please update with your own deployed endpoint name and model name. \n",
    "endpoint_name = 'jumpstart-dft-hf-llm-mistral-7b-ins-xxx'\n",
    "model_name='huggingface-llm-mistral-7b-instruct-xxx'"
   ]
  },
  {
   "cell_type": "code",
   "execution_count": 34,
   "id": "d8b080a4-3f81-4a63-9d41-732ca2e449ce",
   "metadata": {
    "tags": []
   },
   "outputs": [
    {
     "name": "stderr",
     "output_type": "stream",
     "text": [
      "/opt/conda/lib/python3.10/site-packages/IPython/core/display.py:431: UserWarning: Consider using IPython.display.IFrame instead\n",
      "  warnings.warn(\"Consider using IPython.display.IFrame instead\")\n"
     ]
    },
    {
     "data": {
      "text/html": [
       "<iframe src=\"reports/Apple-FY21-Q1-Financial-Statement.pdf\" width=\"100%\" height=\"600px\"></iframe>"
      ],
      "text/plain": [
       "<IPython.core.display.HTML object>"
      ]
     },
     "execution_count": 34,
     "metadata": {},
     "output_type": "execute_result"
    }
   ],
   "source": [
    "from IPython.display import HTML\n",
    "\n",
    "pdf_path = 'reports/Apple-FY21-Q1-Financial-Statement.pdf'\n",
    "html = f'<iframe src=\"{pdf_path}\" width=\"100%\" height=\"600px\"></iframe>'\n",
    "HTML(html)\n"
   ]
  },
  {
   "cell_type": "code",
   "execution_count": 15,
   "id": "401a5731-8daf-401e-b7d9-75d3b3e11635",
   "metadata": {
    "scrolled": true
   },
   "outputs": [
    {
     "name": "stdout",
     "output_type": "stream",
     "text": [
      "Collecting pdfplumber\n",
      "  Downloading pdfplumber-0.11.1-py3-none-any.whl.metadata (39 kB)\n",
      "Collecting pdfminer.six==20231228 (from pdfplumber)\n",
      "  Downloading pdfminer.six-20231228-py3-none-any.whl.metadata (4.2 kB)\n",
      "Requirement already satisfied: Pillow>=9.1 in /opt/conda/lib/python3.10/site-packages (from pdfplumber) (10.3.0)\n",
      "Collecting pypdfium2>=4.18.0 (from pdfplumber)\n",
      "  Downloading pypdfium2-4.30.0-py3-none-manylinux_2_17_x86_64.manylinux2014_x86_64.whl.metadata (48 kB)\n",
      "\u001b[2K     \u001b[90m━━━━━━━━━━━━━━━━━━━━━━━━━━━━━━━━━━━━━━━━\u001b[0m \u001b[32m48.5/48.5 kB\u001b[0m \u001b[31m6.1 MB/s\u001b[0m eta \u001b[36m0:00:00\u001b[0m\n",
      "\u001b[?25hRequirement already satisfied: charset-normalizer>=2.0.0 in /opt/conda/lib/python3.10/site-packages (from pdfminer.six==20231228->pdfplumber) (3.3.2)\n",
      "Requirement already satisfied: cryptography>=36.0.0 in /opt/conda/lib/python3.10/site-packages (from pdfminer.six==20231228->pdfplumber) (42.0.7)\n",
      "Requirement already satisfied: cffi>=1.12 in /opt/conda/lib/python3.10/site-packages (from cryptography>=36.0.0->pdfminer.six==20231228->pdfplumber) (1.16.0)\n",
      "Requirement already satisfied: pycparser in /opt/conda/lib/python3.10/site-packages (from cffi>=1.12->cryptography>=36.0.0->pdfminer.six==20231228->pdfplumber) (2.22)\n",
      "Downloading pdfplumber-0.11.1-py3-none-any.whl (57 kB)\n",
      "\u001b[2K   \u001b[90m━━━━━━━━━━━━━━━━━━━━━━━━━━━━━━━━━━━━━━━━\u001b[0m \u001b[32m57.9/57.9 kB\u001b[0m \u001b[31m9.4 MB/s\u001b[0m eta \u001b[36m0:00:00\u001b[0m\n",
      "\u001b[?25hDownloading pdfminer.six-20231228-py3-none-any.whl (5.6 MB)\n",
      "\u001b[2K   \u001b[90m━━━━━━━━━━━━━━━━━━━━━━━━━━━━━━━━━━━━━━━━\u001b[0m \u001b[32m5.6/5.6 MB\u001b[0m \u001b[31m70.2 MB/s\u001b[0m eta \u001b[36m0:00:00\u001b[0m:00:01\u001b[0m00:01\u001b[0m\n",
      "\u001b[?25hDownloading pypdfium2-4.30.0-py3-none-manylinux_2_17_x86_64.manylinux2014_x86_64.whl (2.8 MB)\n",
      "\u001b[2K   \u001b[90m━━━━━━━━━━━━━━━━━━━━━━━━━━━━━━━━━━━━━━━━\u001b[0m \u001b[32m2.8/2.8 MB\u001b[0m \u001b[31m88.9 MB/s\u001b[0m eta \u001b[36m0:00:00\u001b[0m\n",
      "\u001b[?25hInstalling collected packages: pypdfium2, pdfminer.six, pdfplumber\n",
      "Successfully installed pdfminer.six-20231228 pdfplumber-0.11.1 pypdfium2-4.30.0\n",
      "Note: you may need to restart the kernel to use updated packages.\n"
     ]
    }
   ],
   "source": [
    "pip install pdfplumber"
   ]
  },
  {
   "cell_type": "code",
   "execution_count": 46,
   "id": "8311102a-f8a5-42b5-9e46-7510720b8f82",
   "metadata": {
    "scrolled": true
   },
   "outputs": [],
   "source": [
    "import pdfplumber\n",
    "\n",
    "def read_pdf(file_name):\n",
    "    # Open the PDF file\n",
    "    with pdfplumber.open(file_name) as pdf:\n",
    "        # Initialize an empty string to store the text\n",
    "        text = ''\n",
    "    \n",
    "        # Loop through each page and extract the text\n",
    "        for page in pdf.pages:\n",
    "            text += page.extract_text()\n",
    "    return text"
   ]
  },
  {
   "cell_type": "markdown",
   "id": "30bdf5df-7129-4970-8a14-31ebfe751cd7",
   "metadata": {},
   "source": [
    "GenAI might be able to help with prompt below."
   ]
  },
  {
   "cell_type": "code",
   "execution_count": 39,
   "id": "8225797f-e86c-49c6-97a0-02e2eb008102",
   "metadata": {},
   "outputs": [],
   "source": [
    "import json\n",
    "import boto3\n",
    "newline, bold, unbold = '\\n', '\\033[1m', '\\033[0m'\n",
    "\n",
    "def query_endpoint(payload):\n",
    "    client = boto3.client('runtime.sagemaker')\n",
    "    response = client.invoke_endpoint(\n",
    "        EndpointName=endpoint_name, \n",
    "        ContentType='application/json', \n",
    "        Body=json.dumps(payload).encode('utf-8'),\n",
    "        InferenceComponentName=model_name\n",
    "    )\n",
    "    model_predictions = json.loads(response['Body'].read())\n",
    "    generated_text = model_predictions[0]['generated_text']\n",
    "    print (\n",
    "        f\"Generated Text: {bold}{generated_text}{unbold}{newline}\")\n",
    "    # print (\n",
    "    #     f\"Input Text: {payload['inputs']}{newline}\"\n",
    "    #     f\"Generated Text: {bold}{generated_text}{unbold}{newline}\")"
   ]
  },
  {
   "cell_type": "code",
   "execution_count": 47,
   "id": "69011832-ff65-4cf3-9753-35b2bca2c960",
   "metadata": {
    "scrolled": true,
    "tags": []
   },
   "outputs": [],
   "source": [
    "financial_report_text = read_pdf('reports/Apple-FY21-Q1-Financial-Statement.pdf')\n",
    "\n",
    "prompt = f\"\"\"\n",
    "You are a financial analyst tasked with analyzing a company's financial report and generating an analyst report.\n",
    "\n",
    "Instructions:\n",
    "1. Carefully read and analyze the PDF financial report, paying close attention to key financial statements, ratios, and other relevant information.\n",
    "\n",
    "<financial_report>\n",
    "{financial_report_text}\n",
    "</financial_report>\n",
    "\n",
    "2. Generate an analyst report with the following sections:\n",
    "\n",
    "Financial Report Summary:\n",
    "- Provide a concise summary of the company's financial performance, highlighting key metrics, trends, and notable figures from the financial statements.\n",
    "- Discuss the company's revenue, profitability, cash flow, and balance sheet strength.\n",
    "\n",
    "Buy/Sell Recommendation:\n",
    "- Based on your analysis, provide a clear recommendation on whether an investor should buy, sell, or hold the company's stock.\n",
    "- You estimated fair value (FVE), compare it with current apple share price is $130.\n",
    "- Support your recommendation with specific evidence and reasoning from the financial report analysis.\n",
    "\n",
    "Risk Alert/Warning:\n",
    "- Identify and discuss any significant risks, concerns, or potential red flags that emerged from your analysis of the financial report.\n",
    "- Explain the potential impact of these risks on the company's future performance and valuation.\n",
    "\n",
    "3. Ensure that your analyst report is well-structured, easy to understand, and provides actionable insights for investors and stakeholders.\n",
    "\n",
    "4. Double-check your analysis and recommendations for accuracy and consistency with the information provided in the financial report.\n",
    "\n",
    "Please let me know if you need any clarification or have additional requirements for the analyst report.\n",
    "\n",
    "\"\"\"\n",
    "\n",
    "payload = {\n",
    "    \"inputs\": prompt,\n",
    "    \"parameters\":{\n",
    "        \"max_new_tokens\": 2000,\n",
    "        \"return_full_text\": False,\n",
    "        \"do_sample\": True,\n",
    "        \"top_k\":10\n",
    "        }\n",
    "}\n"
   ]
  },
  {
   "cell_type": "code",
   "execution_count": 33,
   "id": "f45e4254-ce3c-40c0-a7bb-d73ce2cb0077",
   "metadata": {
    "tags": []
   },
   "outputs": [
    {
     "name": "stdout",
     "output_type": "stream",
     "text": [
      "Generated Text: \u001b[1m---\n",
      "\n",
      "**Analyst Report**\n",
      "\n",
      "**Apple Inc. (AAPL): Q4 2020 Financial Analysis**\n",
      "\n",
      "**Financial Report Summary:**\n",
      "\n",
      "Apple Inc. reported strong financial results for the quarter ended December 26, 2020. The company generated net sales of $111.4 billion, a notable increase of 21.2% year-over-year. Apple's profitability remains robust, as evidenced by its operating income of $33.6 billion, a growth of 31.2% compared to Q4 2019.\n",
      "\n",
      "Key revenue contributors for Apple include its Products segment, which accounted for 86.6% of the total net sales, generating $95.7 billion. The Services segment reported sales of $15.8 billion, a 16.3% increase YoY, indicating a continued focus on expanding its services business.\n",
      "\n",
      "The cash flow statement reveals that Apple generated $38.8 billion in cash from operating activities, up from $30.5 billion in the same quarter last year. The company's cash position improved, with a cash balance of $37.7 billion, compared to $41.7 billion in the previous quarter.\n",
      "\n",
      "Apple's balance sheet exhibits strong liquidity and solvency, as evidenced by a current ratio of 1.15 and a quick ratio of 0.93. The company's debt position has increased slightly, with total debt increasing to $290.2 billion from $282.6 billion in the previous quarter.\n",
      "\n",
      "**Buy/Sell Recommendation:**\n",
      "\n",
      "Based on the analysis of Apple's Q4 2020 financial report, I would recommend a strong buy position for investors considering AAPL. The company's continued revenue growth and strong profitability make it an attractive investment. Our Fair Value Estimate (FVE) for Apple shares is $140, and given the current share price ($130), we believe there is a solid upside potential.\n",
      "\n",
      "The Services segment's growth is particularly noteworthy. Apple's growing services business is a significant value driver, providing recurring revenue and contributing to the company's overall profitability. In combination with the robust sales of its hardware products, Apple's services business sets it apart from its competitors and positions the company well to capitalize on emerging trends, such as the increasing demand for remote work solutions.\n",
      "\n",
      "**Risk Alert/Warning:**\n",
      "\n",
      "Despite the positive outlook, there are some potential risks and concerns that investors should be aware of when considering an investment in Apple. The ongoing global economic uncertainty due to the COVID-19 pandemic and its impact on consumer spending is a primary concern. Additionally, the intensifying competition, particularly in the smartphone market, could put downward pressure on Apple's sales and profitability. Lastly, the regulatory environment in major markets, such as the US and China, could introduce uncertainty and impact Apple's operations and financial performance.\n",
      "\n",
      "While these risks may pose a threat to Apple's future performance, the company's strong financial position, innovative product offerings, and strategic focus on services provide solid foundation for managing these challenges. We believe that Apple's proven track record of resilience and adaptability position it well to navigate any potential headwinds.\u001b[0m\n",
      "\n"
     ]
    }
   ],
   "source": [
    "query_endpoint(payload)"
   ]
  },
  {
   "cell_type": "markdown",
   "id": "1904164c-7169-4aa0-a385-0a9e9579994a",
   "metadata": {},
   "source": [
    "You can re-run and modify until you get a satisfactory version. In future, you can use the version as a template in few shot prompt. For example, in the next year, Apple released Apple Q4 2021 quarterly financial report, you can use this template to generate new report."
   ]
  },
  {
   "cell_type": "code",
   "execution_count": 52,
   "id": "8e84fdba-8d42-477a-b3e8-ccfcf8f28da2",
   "metadata": {},
   "outputs": [],
   "source": [
    "analysis_template = \"\"\"\n",
    "**Analyst Report**\n",
    "\n",
    "**Apple Inc. (AAPL): Q4 2020 Financial Analysis**\n",
    "\n",
    "**Financial Report Summary:**\n",
    "\n",
    "Apple Inc. reported strong financial results for the quarter ended December 26, 2020. The company generated net sales of $111.4 billion, a notable increase of 21.2% year-over-year. Apple's profitability remains robust, as evidenced by its operating income of $33.6 billion, a growth of 31.2% compared to Q4 2019.\n",
    "\n",
    "Key revenue contributors for Apple include its Products segment, which accounted for 86.6% of the total net sales, generating $95.7 billion. The Services segment reported sales of $15.8 billion, a 16.3% increase YoY, indicating a continued focus on expanding its services business.\n",
    "\n",
    "The cash flow statement reveals that Apple generated $38.8 billion in cash from operating activities, up from $30.5 billion in the same quarter last year. The company's cash position improved, with a cash balance of $37.7 billion, compared to $41.7 billion in the previous quarter.\n",
    "\n",
    "Apple's balance sheet exhibits strong liquidity and solvency, as evidenced by a current ratio of 1.15 and a quick ratio of 0.93. The company's debt position has increased slightly, with total debt increasing to $290.2 billion from $282.6 billion in the previous quarter.\n",
    "\n",
    "**Buy/Sell Recommendation:**\n",
    "\n",
    "Based on the analysis of Apple's Q4 2020 financial report, I would recommend a strong buy position for investors considering AAPL. The company's continued revenue growth and strong profitability make it an attractive investment. Our Fair Value Estimate (FVE) for Apple shares is $140, and given the current share price ($130), we believe there is a solid upside potential.\n",
    "\n",
    "The Services segment's growth is particularly noteworthy. Apple's growing services business is a significant value driver, providing recurring revenue and contributing to the company's overall profitability. In combination with the robust sales of its hardware products, Apple's services business sets it apart from its competitors and positions the company well to capitalize on emerging trends, such as the increasing demand for remote work solutions.\n",
    "\n",
    "**Risk Alert/Warning:**\n",
    "\n",
    "Despite the positive outlook, there are some potential risks and concerns that investors should be aware of when considering an investment in Apple. The ongoing global economic uncertainty due to the COVID-19 pandemic and its impact on consumer spending is a primary concern. Additionally, the intensifying competition, particularly in the smartphone market, could put downward pressure on Apple's sales and profitability. Lastly, the regulatory environment in major markets, such as the US and China, could introduce uncertainty and impact Apple's operations and financial performance.\n",
    "\n",
    "While these risks may pose a threat to Apple's future performance, the company's strong financial position, innovative product offerings, and strategic focus on services provide solid foundation for managing these challenges. We believe that Apple's proven track record of resilience and adaptability position it well to navigate any potential headwinds.\n",
    "\"\"\"\n",
    "\n",
    "financial_report_text = read_pdf('reports/Apple_FY22_Q1_Consolidated_Financial_Statements.pdf')\n",
    "\n",
    "prompt = f\"\"\"\n",
    "You are a financial analyst tasked with analyzing a company's financial report and generating an analyst report. \n",
    "\n",
    "Instructions:\n",
    "1. Carefully read and analyze the PDF financial report, paying close attention to key financial statements, ratios, and other relevant information.\n",
    "\n",
    "<financial_report>\n",
    "{financial_report_text}\n",
    "</financial_report>\n",
    "\n",
    "2. Generate an analyst report following the similar report template and format as below:\n",
    "\n",
    "<analysis_template>\n",
    "{analysis_template}\n",
    "</analysis_template>\n",
    "\n",
    "3. Ensure that your analyst report is well-structured, easy to understand, and follow the template structure.\n",
    "\n",
    "4. Double-check your analysis and recommendations for accuracy and consistency with the information provided in the financial report.\n",
    "\n",
    "Please let me know if you need any clarification or have additional requirements for the analyst report.\n",
    "\n",
    "\"\"\"\n",
    "\n",
    "payload = {\n",
    "    \"inputs\": prompt,\n",
    "    \"parameters\":{\n",
    "        \"max_new_tokens\": 2000,\n",
    "        \"return_full_text\": False,\n",
    "        \"do_sample\": True,\n",
    "        \"top_k\":10\n",
    "        }\n",
    "}\n"
   ]
  },
  {
   "cell_type": "code",
   "execution_count": 51,
   "id": "b5cbffff-bf5e-4ed6-b0b6-e140cdb29d14",
   "metadata": {},
   "outputs": [
    {
     "name": "stdout",
     "output_type": "stream",
     "text": [
      "Generated Text: \u001b[1m<analysis>\n",
      "**Analyst Report**\n",
      "\n",
      "**Apple Inc. (AAPL): Q4 2021 Financial Analysis**\n",
      "\n",
      "**Financial Report Summary:**\n",
      "\n",
      "Apple Inc. reported impressive financial results for the quarter ended December 25, 2021. The company generated net sales of $123.9 billion, a significant increase of 11.3% year-over-year. Apple's profitability remained solid, as shown by its operating income of $41.3 billion, representing a respectable 27.1% increase compared to Q4 2020.\n",
      "\n",
      "The company's key revenue drivers include the Products segment, which accounted for 91.8% of Apple's total net sales, generating $111.7 billion. The Services segment reported sales of $12.2 billion, a strong growth of 37.2% YoY, highlighting the importance of its services business.\n",
      "\n",
      "A deeper look at Apple's cash flow statement reveals that the company generated $46.9 billion in cash from operating activities, representing a 23% increase year-over-year. The company's cash position strengthened, with a cash balance of $38.6 billion, compared to $37.7 billion in the previous quarter.\n",
      "\n",
      "Apple's balance sheet demonstrates a healthy liquidity and solvency position. Its current ratio stands at 1.17, while the quick ratio is 0.94. The company's debt position has grown slightly, with total debt reaching $309.3 billion from $290.2 billion in the previous quarter.\n",
      "\n",
      "**Buy/Sell Recommendation:**\n",
      "\n",
      "Based on the analysis of Apple's Q4 2021 financial report, I would recommend a strong buy for investors considering AAPL. The company's solid growth in revenue and profitability, alongside its expanding services business, make it a compelling investment opportunity. Our Fair Value Estimate (FVE) for Apple shares is $160, and given the current share price ($155), there is a promising upside potential.\n",
      "\n",
      "Apple's growing services business is a primary driver of the company's value. The recurring revenue stream generated by services contributes significantly to the company's overall profitability, setting it apart from competitors and positioning Apple to capitalize on emerging trends, such as the shift towards digital services.\n",
      "\n",
      "Combined with the robust sales of its hardware products, Apple's services business further highlights the company's commitment to innovation and its ability to adapt to changing market conditions.\n",
      "\n",
      "**Risk Alert/Warning:**\n",
      "\n",
      "Despite the positive financial results, there remain risks and concerns for investors considering an investment in Apple. The ongoing impact of the COVID-19 pandemic on global economies and consumer spending is a primary concern. Additionally, increased competition, particularly in the smartphone market, could put pressure on Apple's sales and profitability. Lastly, regulatory challenges in major markets, including the US and China, could introduce uncertainty and impact Apple's operations and financial performance.\n",
      "\n",
      "Despite these risks, Apple remains in a strong position. The company's solid financial position, innovative product offerings, and strategic focus on services provide a firm foundation for managing potential headwinds. We believe that Apple's proven track record of resilience and adaptability positions it well to navigate these challenges.\n",
      "\n",
      "**Disclaimer:**\n",
      "\n",
      "This report is for informational purposes only and is not intended to provide investment advice or a recommendation to invest in Apple Inc. (AAPL) or any other security. The information presented is based on publicly available data and should not be considered as complete or accurate for all intents and purposes. Past performance does not guarantee future results. The investment decision should be made based on individual research and risk tolerance.\u001b[0m\n",
      "\n"
     ]
    }
   ],
   "source": [
    "query_endpoint(payload)"
   ]
  }
 ],
 "metadata": {
  "kernelspec": {
   "display_name": "Python 3 (ipykernel)",
   "language": "python",
   "name": "python3"
  },
  "language_info": {
   "codemirror_mode": {
    "name": "ipython",
    "version": 3
   },
   "file_extension": ".py",
   "mimetype": "text/x-python",
   "name": "python",
   "nbconvert_exporter": "python",
   "pygments_lexer": "ipython3",
   "version": "3.10.14"
  }
 },
 "nbformat": 4,
 "nbformat_minor": 5
}
