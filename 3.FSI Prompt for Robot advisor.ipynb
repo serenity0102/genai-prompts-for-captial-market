{
 "cells": [
  {
   "cell_type": "markdown",
   "id": "0bc14527-85f1-4d9c-af3c-2068c2e3f3cb",
   "metadata": {
    "tags": []
   },
   "source": [
    "# This is to demo GenAI prompt in FSI"
   ]
  },
  {
   "cell_type": "markdown",
   "id": "d528bf6a-fa13-4bfb-ba30-fd92e5806274",
   "metadata": {
    "tags": []
   },
   "source": [
    "## Financial Robot Advisor"
   ]
  },
  {
   "cell_type": "markdown",
   "id": "8157fb79-08d7-4b7c-a4c4-f11a9fcaf452",
   "metadata": {
    "tags": []
   },
   "source": [
    "When a finance event happens (such as financial report release, federal reserve rate adjustment), wealth management relationship manager (RM) needs to give financial advice to their clients, including high net wealth clients, how these events would affect their open portfolio and what action they should take.\n",
    "\n",
    "Take JMPC RM for example. The RM's client has following portfolio:\n",
    "\n",
    "| Equity | Amount | Average Price | Market Value |\n",
    "| --- | --- | --- | --- |\n",
    "| AAPL.US | 10000 | US$200.00 | US$2,000,000 |\n",
    "| TSLA.US | 5000 | US$200.00 | US$1,000,000 |\n",
    "| YZ.US | 12000 | US$50.00 | US$600,000 |\n",
    "| 0388.HK | 10000 | HK$250.00 | HK$2,500,000 |\n",
    "| 0941.HK | 10000 | HK$30.00 | HK$300,000 |\n",
    "\n",
    "\n",
    "\n",
    "Following is the JPMC's market view on Fed rate (source: https://am.jpmorgan.com/us/en/asset-management/adv/insights/market-insights/guide-to-the-markets/economic-and-market-update/):\n",
    "\n",
    "![CFA report on Apple](https://d1i7pm9zcth9lt.cloudfront.net/jpmcview1.png)\n",
    "\n",
    "Based on its own market view, JPMC RM would need to interpret how it impacts the client's portfolio and how the client need to adjust her/his portfolio."
   ]
  },
  {
   "cell_type": "markdown",
   "id": "30bdf5df-7129-4970-8a14-31ebfe751cd7",
   "metadata": {},
   "source": [
    "GenAI might be able to help with prompt below."
   ]
  },
  {
   "cell_type": "code",
   "execution_count": 1,
   "id": "69011832-ff65-4cf3-9753-35b2bca2c960",
   "metadata": {
    "scrolled": true,
    "tags": []
   },
   "outputs": [],
   "source": [
    "prompt1 = \"\"\"\n",
    "Human: You are CFA analyst with global financial exposure, helping a high-net-wealth client managing portfolio as below. The client is risk-averse.\n",
    "\n",
    "Open position is as below:\n",
    "Stock:\n",
    "AMZN.US, 10000 shares, US$170, US$1700000\n",
    "TSLA.US, 5000 shares, US$200, US$1000000 \n",
    "VZ.US, 12000 shares, US$50, US$600000 \n",
    "DIS.US, 3000 shares, US$140, US$420000 \n",
    "0388.HK,10000 shares, HK$250, HK$2500000\n",
    "0700.HK, 1000 shares, HK$300, HK$300000\n",
    "\n",
    "Bond:\n",
    "30-Year 0-3/4% Treasury Inflation-Indexed Bond Due 2/15/2045, GTII30:GOV, US$40000000\n",
    "AMZN 4.250% 22Aug2057 Corp (USD), USU02320AK24, US$10000000\n",
    "\n",
    "Following is the JP Morgan research market view. Please advise accordingly\n",
    "<view>\n",
    "The Federal Reserve has hiked rates by a cumulative 5.25% since the beginning of 2022 to combat inflation. However, with inflation steadily trending towards their 2% target and labor market conditions easing, the July rate hike was likely the last of this cycle. At their December meeting, the Fed voted to leave the federal funds rate unchanged at a target range of 5.25%-5.50% and strongly hinted that rates are at their cycle peak. Fed Chairman Powell did not push back against easing financial conditions or the idea of rate cuts, as he has done in the past, and forward guidance was decisively dovish.\n",
    "Specifically, the Fed’s “dot plot” suggested that rate cuts may occur faster than initially expected, with the median FOMC member expecting a year-end federal funds rate of 4.6% in 2024, implying three cuts next year. Updates to the Summary of Economic Projections showed lower inflation forecasts for 2023, 2024 and 2025 without material revisions to the growth or employment forecasts. With these revisions, the Fed is acknowledging that inflation is falling faster than expected and appear to be forecasting a soft-landing scenario.\n",
    "Overall, the Fed is likely at the end of its hiking cycle, which means investors are now more interested in the timing and extent of eventual rate cuts. If the economy remains afloat, the Fed may only deliver minor policy cuts. However, if the U.S. economy enters a recession, the Fed may be forced to cut rates more aggressively to try and stimulate the economy. Either way, it is increasingly likely that rates will move lower in the year ahead, but they may settle at a higher level compared to previous policy easing cycles.\n",
    "</view>\n",
    "\n",
    "Assistant:\n",
    "\"\"\""
   ]
  },
  {
   "cell_type": "code",
   "execution_count": 2,
   "id": "f45e4254-ce3c-40c0-a7bb-d73ce2cb0077",
   "metadata": {
    "tags": []
   },
   "outputs": [
    {
     "name": "stdout",
     "output_type": "stream",
     "text": [
      "Based on the J.P. Morgan research market view and the client's risk-averse profile, I would recommend the following portfolio adjustments:\n",
      "\n",
      "1. Equity Positions:\n",
      "   - Maintain the existing equity positions as they are well-diversified across sectors and geographies.\n",
      "   - However, consider trimming some exposure to the technology sector (AMZN and TSLA) as these stocks may be more sensitive to economic conditions and interest rate changes.\n",
      "\n",
      "2. Bond Positions:\n",
      "   - The existing bond positions, particularly the 30-Year Treasury Inflation-Indexed Bond, provide a good hedge against potential inflation risks.\n",
      "   - Consider increasing the allocation to high-quality corporate bonds or investment-grade bonds with shorter durations, as they may benefit from potential rate cuts in the future.\n",
      "\n",
      "3. Overall Asset Allocation:\n",
      "   - Given the client's risk-averse profile, maintain a balanced asset allocation between equities and fixed-income securities.\n",
      "   - Depending on the client's risk tolerance, you may consider slightly reducing the equity exposure and increasing the allocation to fixed-income securities to protect against potential market volatility.\n",
      "\n",
      "4. Portfolio Monitoring:\n",
      "   - Closely monitor economic indicators, inflation data, and the Fed's policy actions to make timely adjustments to the portfolio.\n",
      "   - Be prepared to rebalance the portfolio periodically to maintain the desired asset allocation and risk profile.\n",
      "\n",
      "It's important to note that these recommendations are based on the provided market view and the client's risk-averse profile. However, it's always advisable to conduct a comprehensive review of the client's investment objectives, risk tolerance, and overall financial situation before making any significant changes to the portfolio.\n",
      "\n",
      "\n"
     ]
    }
   ],
   "source": [
    "import boto3\n",
    "import json\n",
    "\n",
    "session = boto3.Session(region_name='us-west-2') \n",
    "bedrock = session.client(service_name=\"bedrock-runtime\")\n",
    "\n",
    "messages = [{\"role\": \"user\", \"content\": prompt1}]\n",
    "body = {\"messages\": messages, \n",
    "        \"max_tokens\": 10000, \n",
    "        \"temperature\": 0.5, \n",
    "        \"anthropic_version\":\"\", \n",
    "        \"top_k\": 250, \n",
    "        \"top_p\": 1, \n",
    "        \"stop_sequences\": [\"Human\"]}\n",
    "response = bedrock.invoke_model(modelId=\"anthropic.claude-3-sonnet-20240229-v1:0\", body=json.dumps(body))\n",
    "text_resp = json.loads(response['body'].read().decode('utf-8'))\n",
    "print(text_resp['content'][0]['text'])\n",
    "\n"
   ]
  },
  {
   "cell_type": "markdown",
   "id": "472dc349-418d-43dc-863a-33631f7dbbab",
   "metadata": {},
   "source": [
    "You can find that Cloude 3 provide the comment on the equity and bond position impact and adjustment advice. Further more, it suggested some commen investment philosophy, such as diversification and risk management. In addition, it gave some 'protective terms', such as maintain your desired risk appetite."
   ]
  }
 ],
 "metadata": {
  "kernelspec": {
   "display_name": "conda_python3",
   "language": "python",
   "name": "conda_python3"
  },
  "language_info": {
   "codemirror_mode": {
    "name": "ipython",
    "version": 3
   },
   "file_extension": ".py",
   "mimetype": "text/x-python",
   "name": "python",
   "nbconvert_exporter": "python",
   "pygments_lexer": "ipython3",
   "version": "3.10.14"
  }
 },
 "nbformat": 4,
 "nbformat_minor": 5
}
