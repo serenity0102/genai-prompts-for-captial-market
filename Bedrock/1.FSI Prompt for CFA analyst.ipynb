{
 "cells": [
  {
   "cell_type": "markdown",
   "id": "0bc14527-85f1-4d9c-af3c-2068c2e3f3cb",
   "metadata": {
    "tags": []
   },
   "source": [
    "# This is to demo GenAI prompt in FSI"
   ]
  },
  {
   "cell_type": "markdown",
   "id": "d528bf6a-fa13-4bfb-ba30-fd92e5806274",
   "metadata": {
    "tags": []
   },
   "source": [
    "## Financial Analysis \u000b",
    "Generation by Template"
   ]
  },
  {
   "cell_type": "markdown",
   "id": "8157fb79-08d7-4b7c-a4c4-f11a9fcaf452",
   "metadata": {
    "tags": []
   },
   "source": [
    "Sell side analyst needs to write analysis report regularly, and there are some template that they use. following is a sample report on Apple Q4 2020 about its quarterly financial report. \n",
    "\n",
    "```\n",
    "Apple Q1 2021 Results Exceed Expectations; Raising FVE to $145\n",
    "\n",
    "Financial Summary:\n",
    "Apple reported stellar fiscal Q1 2021 results with revenue of $111.4 billion, up 21% year-over-year, easily beating consensus estimates. All product categories saw double-digit growth led by iPhone (up 17% to $65.6B), Services (up 24% to $15.8B), and Wearables/Home/Accessories (up 30% to $13.0B).\n",
    "\n",
    "Recommendation:\n",
    "We reiterate our Buy rating on Apple shares. The stock is currently trading at $137, providing an upside of over 15% from current levels based on our revised $145 fair value estimate.\n",
    "\n",
    "Risk Factors:\n",
    "- Potential supply chain disruptions if COVID-19 situation worsens\n",
    "- Intense competition, especially in 5G smartphones\n",
    "- Regulatory scrutiny around App Store policies"
   ]
  },
  {
   "cell_type": "code",
   "execution_count": 1,
   "id": "d8b080a4-3f81-4a63-9d41-732ca2e449ce",
   "metadata": {
    "tags": []
   },
   "outputs": [
    {
     "name": "stderr",
     "output_type": "stream",
     "text": [
      "/opt/conda/lib/python3.10/site-packages/IPython/core/display.py:431: UserWarning: Consider using IPython.display.IFrame instead\n",
      "  warnings.warn(\"Consider using IPython.display.IFrame instead\")\n"
     ]
    },
    {
     "data": {
      "text/html": [
       "<iframe src=\"reports/Apple-FY21-Q1-Financial-Statement.pdf\" width=\"100%\" height=\"600px\"></iframe>"
      ],
      "text/plain": [
       "<IPython.core.display.HTML object>"
      ]
     },
     "execution_count": 1,
     "metadata": {},
     "output_type": "execute_result"
    }
   ],
   "source": [
    "from IPython.display import HTML\n",
    "\n",
    "pdf_path = 'reports/Apple-FY21-Q1-Financial-Statement.pdf'\n",
    "html = f'<iframe src=\"{pdf_path}\" width=\"100%\" height=\"600px\"></iframe>'\n",
    "HTML(html)\n"
   ]
  },
  {
   "cell_type": "markdown",
   "id": "30bdf5df-7129-4970-8a14-31ebfe751cd7",
   "metadata": {},
   "source": [
    "GenAI might be able to help with prompt below."
   ]
  },
  {
   "cell_type": "code",
   "execution_count": 2,
   "id": "dec758c1-29b3-4d59-919a-f13821f653a4",
   "metadata": {},
   "outputs": [
    {
     "name": "stdout",
     "output_type": "stream",
     "text": [
      "Requirement already satisfied: pdfplumber in /opt/conda/lib/python3.10/site-packages (0.11.1)\n",
      "Requirement already satisfied: pdfminer.six==20231228 in /opt/conda/lib/python3.10/site-packages (from pdfplumber) (20231228)\n",
      "Requirement already satisfied: Pillow>=9.1 in /opt/conda/lib/python3.10/site-packages (from pdfplumber) (10.3.0)\n",
      "Requirement already satisfied: pypdfium2>=4.18.0 in /opt/conda/lib/python3.10/site-packages (from pdfplumber) (4.30.0)\n",
      "Requirement already satisfied: charset-normalizer>=2.0.0 in /opt/conda/lib/python3.10/site-packages (from pdfminer.six==20231228->pdfplumber) (3.3.2)\n",
      "Requirement already satisfied: cryptography>=36.0.0 in /opt/conda/lib/python3.10/site-packages (from pdfminer.six==20231228->pdfplumber) (42.0.7)\n",
      "Requirement already satisfied: cffi>=1.12 in /opt/conda/lib/python3.10/site-packages (from cryptography>=36.0.0->pdfminer.six==20231228->pdfplumber) (1.16.0)\n",
      "Requirement already satisfied: pycparser in /opt/conda/lib/python3.10/site-packages (from cffi>=1.12->cryptography>=36.0.0->pdfminer.six==20231228->pdfplumber) (2.22)\n",
      "Note: you may need to restart the kernel to use updated packages.\n"
     ]
    }
   ],
   "source": [
    "pip install pdfplumber"
   ]
  },
  {
   "cell_type": "code",
   "execution_count": 3,
   "id": "67ce902b-aad6-4cd9-9c17-5e3e224f9a7c",
   "metadata": {
    "scrolled": true
   },
   "outputs": [
    {
     "name": "stdout",
     "output_type": "stream",
     "text": [
      "Apple Inc.\n",
      "CONDENSED CONSOLIDATED STATEMENTS OF OPERATIONS (Unaudited)\n",
      "(In millions, except number of shares which are reflected in thousands and per share amounts)\n",
      "Three Months Ended\n",
      "December 26, December 28,\n",
      "2020 2019\n",
      "Net sales:\n",
      "Products $ 95,678 $ 79,104\n",
      "Services 15,761 12,715\n",
      "Total net sales (1) 111,439 91,819\n",
      "Cost of sales:\n",
      "Products 62,130 52,075\n",
      "Services 4,981 4,527\n",
      "Total cost of sales 67,111 56,602\n",
      "Gross margin 44,328 35,217\n",
      "Operating expenses:\n",
      "Research and development 5,163 4,451\n",
      "Selling, general and administrative 5,631 5,197\n",
      "Total operating expenses 10,794 9,648\n",
      "Operating income 33,534 25,569\n",
      "Other income/(expense), net 45 349\n",
      "Income before provision for income taxes 33,579 25,918\n",
      "Provision for income taxes 4,824 3,682\n",
      "Net income $ 28,755 $ 22,236\n",
      "Earnings per share:\n",
      "Basic $ 1.70 $ 1.26\n",
      "Diluted $ 1.68 $ 1.25\n",
      "Shares used in computing earnings per share:\n",
      "Basic 16,935,119 17,660,160\n",
      "Diluted 17,113,688 17,818,417\n",
      "(1) Net sales by reportable segment:\n",
      "Americas $ 46,310 $ 41,367\n",
      "Europe 27,306 23,273\n",
      "Greater China 21,313 13,578\n",
      "Japan 8,285 6,223\n",
      "Rest of Asia Pacific 8,225 7,378\n",
      "Total net sales $ 111,439 $ 91,819\n",
      "(1) Net sales by category:\n",
      "iPhone $ 65,597 $ 55,957\n",
      "Mac 8,675 7,160\n",
      "iPad 8,435 5,977\n",
      "Wearables, Home and Accessories 12,971 10,010\n",
      "Services 15,761 12,715\n",
      "Total net sales $ 111,439 $ 91,819Apple Inc.\n",
      "CONDENSED CONSOLIDATED BALANCE SHEETS (Unaudited)\n",
      "(In millions, except number of shares which are reflected in thousands and par value)\n",
      "December 26, September 26,\n",
      "2020 2020\n",
      "ASSETS:\n",
      "Current assets:\n",
      "Cash and cash equivalents $ 36,010 $ 38,016\n",
      "Marketable securities 40,816 52,927\n",
      "Accounts receivable, net 27,101 16,120\n",
      "Inventories 4,973 4,061\n",
      "Vendor non-trade receivables 31,519 21,325\n",
      "Other current assets 13,687 11,264\n",
      "Total current assets 154,106 143,713\n",
      "Non-current assets:\n",
      "Marketable securities 118,745 100,887\n",
      "Property, plant and equipment, net 37,933 36,766\n",
      "Other non-current assets 43,270 42,522\n",
      "Total non-current assets 199,948 180,175\n",
      "Total assets $ 354,054 $ 323,888\n",
      "LIABILITIES AND SHAREHOLDERS’ EQUITY:\n",
      "Current liabilities:\n",
      "Accounts payable $ 63,846 $ 42,296\n",
      "Other current liabilities 48,504 42,684\n",
      "Deferred revenue 7,395 6,643\n",
      "Commercial paper 5,000 4,996\n",
      "Term debt 7,762 8,773\n",
      "Total current liabilities 132,507 105,392\n",
      "Non-current liabilities:\n",
      "Term debt 99,281 98,667\n",
      "Other non-current liabilities 56,042 54,490\n",
      "Total non-current liabilities 155,323 153,157\n",
      "Total liabilities 287,830 258,549\n",
      "Commitments and contingencies\n",
      "Shareholders’ equity:\n",
      "Common stock and additional paid-in capital, $0.00001 par value: 50,400,000 shares\n",
      "authorized; 16,823,263 and 16,976,763 shares issued and outstanding, respectively 51,744 50,779\n",
      "Retained earnings 14,301 14,966\n",
      "Accumulated other comprehensive income/(loss) 179 (406)\n",
      "Total shareholders’ equity 66,224 65,339\n",
      "Total liabilities and shareholders’ equity $ 354,054 $ 323,888Apple Inc.\n",
      "CONDENSED CONSOLIDATED STATEMENTS OF CASH FLOWS (Unaudited)\n",
      "(In millions)\n",
      "Three Months Ended\n",
      "December 26, December 28,\n",
      "2020 2019\n",
      "Cash, cash equivalents and restricted cash, beginning balances $ 39,789 $ 50,224\n",
      "Operating activities:\n",
      "Net income 28,755 22,236\n",
      "Adjustments to reconcile net income to cash generated by operating activities:\n",
      "Depreciation and amortization 2,666 2,816\n",
      "Share-based compensation expense 2,020 1,710\n",
      "Deferred income tax benefit (58) (349)\n",
      "Other 25 (142)\n",
      "Changes in operating assets and liabilities:\n",
      "Accounts receivable, net (10,945) 2,015\n",
      "Inventories (950) (28)\n",
      "Vendor non-trade receivables (10,194) 3,902\n",
      "Other current and non-current assets (3,526) (7,054)\n",
      "Accounts payable 21,670 (1,089)\n",
      "Deferred revenue 1,341 985\n",
      "Other current and non-current liabilities 7,959 5,514\n",
      "Cash generated by operating activities 38,763 30,516\n",
      "Investing activities:\n",
      "Purchases of marketable securities (39,800) (37,416)\n",
      "Proceeds from maturities of marketable securities 25,177 19,740\n",
      "Proceeds from sales of marketable securities 9,344 7,280\n",
      "Payments for acquisition of property, plant and equipment (3,500) (2,107)\n",
      "Payments made in connection with business acquisitions, net (9) (958)\n",
      "Other 204 (207)\n",
      "Cash used in investing activities (8,584) (13,668)\n",
      "Financing activities:\n",
      "Proceeds from issuance of common stock — 2\n",
      "Payments for taxes related to net share settlement of equity awards (2,861) (1,379)\n",
      "Payments for dividends and dividend equivalents (3,613) (3,539)\n",
      "Repurchases of common stock (24,775) (20,706)\n",
      "Proceeds from issuance of term debt, net — 2,210\n",
      "Repayments of term debt (1,000) (1,000)\n",
      "Proceeds from/(Repayments of) commercial paper, net 22 (979)\n",
      "Other (22) (16)\n",
      "Cash used in financing activities (32,249) (25,407)\n",
      "Decrease in cash, cash equivalents and restricted cash (2,070) (8,559)\n",
      "Cash, cash equivalents and restricted cash, ending balances $ 37,719 $ 41,665\n",
      "Supplemental cash flow disclosure:\n",
      "Cash paid for income taxes, net $ 1,787 $ 4,393\n",
      "Cash paid for interest $ 619 $ 771\n"
     ]
    }
   ],
   "source": [
    "import pdfplumber\n",
    "\n",
    "# Open the PDF file\n",
    "with pdfplumber.open('reports/Apple-FY21-Q1-Financial-Statement.pdf') as pdf:\n",
    "    # Initialize an empty string to store the text\n",
    "    financial_report_text = ''\n",
    "\n",
    "    # Loop through each page and extract the text\n",
    "    for page in pdf.pages:\n",
    "        financial_report_text += page.extract_text()\n",
    "\n",
    "# Print the extracted text\n",
    "print(financial_report_text)"
   ]
  },
  {
   "cell_type": "code",
   "execution_count": 5,
   "id": "69011832-ff65-4cf3-9753-35b2bca2c960",
   "metadata": {
    "scrolled": true,
    "tags": []
   },
   "outputs": [],
   "source": [
    "prompt = f\"\"\"\n",
    "You are a financial analyst tasked with analyzing a company's financial report and generating an analyst report. The financial report is provided in PDF format.\n",
    "\n",
    "Instructions:\n",
    "1. Carefully read and analyze the PDF financial report, paying close attention to key financial statements, ratios, and other relevant information.\n",
    "\n",
    "<financial_report>\n",
    "{financial_report_text}\n",
    "</financial_report>\n",
    "\n",
    "2. Generate an analyst report with the following sections:\n",
    "\n",
    "Financial Report Summary:\n",
    "- Provide a concise summary of the company's financial performance, highlighting key metrics, trends, and notable figures from the financial statements.\n",
    "- Discuss the company's revenue, profitability, cash flow, and balance sheet strength.\n",
    "\n",
    "Buy/Sell Recommendation:\n",
    "- Based on your analysis, provide a clear recommendation on whether an investor should buy, sell, or hold the company's stock.\n",
    "- You estimated fair value (FVE), compare it with current apple share price is $130.\n",
    "- Support your recommendation with specific evidence and reasoning from the financial report analysis.\n",
    "\n",
    "Risk Alert/Warning:\n",
    "- Identify and discuss any significant risks, concerns, or potential red flags that emerged from your analysis of the financial report.\n",
    "- Explain the potential impact of these risks on the company's future performance and valuation.\n",
    "\n",
    "3. Ensure that your analyst report is well-structured, easy to understand, and provides actionable insights for investors and stakeholders.\n",
    "\n",
    "4. Double-check your analysis and recommendations for accuracy and consistency with the information provided in the financial report.\n",
    "\n",
    "Please let me know if you need any clarification or have additional requirements for the analyst report.\n",
    "\n",
    "\"\"\""
   ]
  },
  {
   "cell_type": "code",
   "execution_count": 6,
   "id": "f45e4254-ce3c-40c0-a7bb-d73ce2cb0077",
   "metadata": {
    "tags": []
   },
   "outputs": [
    {
     "name": "stdout",
     "output_type": "stream",
     "text": [
      "Financial Report Summary:\n",
      "\n",
      "Apple Inc. reported strong financial performance for the three months ended December 26, 2020. The company's total net sales increased by 21.4% year-over-year to $111.44 billion, driven by growth across all product categories and geographic segments. The iPhone remained the largest contributor to revenue, generating $65.60 billion in sales, up 17.3% from the previous year.\n",
      "\n",
      "The company's profitability remained robust, with a gross margin of 39.8% and an operating income of $33.53 billion, representing year-over-year increases of 25.8% and 31.2%, respectively. Net income rose by 29.3% to $28.76 billion, resulting in diluted earnings per share of $1.68, up 34.4% compared to the prior year.\n",
      "\n",
      "Apple's cash flow from operations was strong at $38.76 billion, reflecting the company's ability to generate substantial cash from its operations. The company's balance sheet remained solid, with total assets of $354.05 billion and total liabilities of $287.83 billion. The company's cash and marketable securities totaled $195.57 billion, providing ample liquidity and financial flexibility.\n",
      "\n",
      "Buy/Sell Recommendation:\n",
      "\n",
      "Based on the analysis of Apple's financial report, I recommend a \"Buy\" rating on the company's stock. Apple's strong revenue growth, robust profitability, and solid cash flow generation indicate a healthy and resilient business model. The company's leadership in the premium smartphone market, coupled with its growing services and wearables segments, positions it well for continued growth and value creation.\n",
      "\n",
      "Assuming a conservative growth rate of 10% and a discount rate of 8%, my estimated fair value (FVE) for Apple's stock is around $160 per share. With the current share price of $130, the stock appears undervalued, offering an attractive entry point for investors.\n",
      "\n",
      "Apple's strong brand loyalty, innovative product pipeline, and vast ecosystem of services and accessories provide a competitive advantage and support long-term growth prospects. The company's financial strength and disciplined capital allocation strategy, including share buybacks and dividends, further enhance shareholder value.\n",
      "\n",
      "Risk Alert/Warning:\n",
      "\n",
      "While Apple's financial performance is impressive, there are several risks and potential concerns that investors should consider:\n",
      "\n",
      "1. Geopolitical tensions and trade disputes: Apple's global supply chain and significant exposure to international markets, particularly China, make it vulnerable to geopolitical tensions, trade disputes, and potential tariffs or restrictions.\n",
      "\n",
      "2. Competitive landscape: The technology industry is highly competitive, and Apple faces intense competition from other major players, such as Samsung, Google, and emerging Chinese manufacturers. Failure to maintain its competitive edge and innovation pipeline could impact future growth and market share.\n",
      "\n",
      "3. Dependence on key products: Apple's revenue is heavily dependent on the success of its flagship products, particularly the iPhone. Any significant decline in demand or failure to introduce compelling new products could adversely affect the company's financial performance.\n",
      "\n",
      "4. Regulatory and legal risks: Apple operates in a highly regulated environment and faces various legal and regulatory risks, including antitrust investigations, data privacy concerns, and intellectual property disputes, which could result in significant fines, penalties, or reputational damage.\n",
      "\n",
      "5. Supply chain disruptions: Any disruptions in Apple's global supply chain, such as component shortages, manufacturing issues, or logistical challenges, could impact product availability and sales, potentially affecting the company's financial performance.\n",
      "\n",
      "While these risks should be carefully monitored, Apple's strong financial position, diversified product portfolio, and proven track record of innovation and execution provide a degree of resilience and mitigate some of these concerns.\n",
      "\n",
      "\n"
     ]
    }
   ],
   "source": [
    "import boto3\n",
    "import json\n",
    "\n",
    "session = boto3.Session(region_name='us-west-2') \n",
    "bedrock = session.client(service_name=\"bedrock-runtime\")\n",
    "\n",
    "messages = [{\"role\": \"user\", \"content\": prompt}]\n",
    "body = {\"messages\": messages, \n",
    "        \"max_tokens\": 10000, \n",
    "        \"temperature\": 0.5, \n",
    "        \"anthropic_version\":\"\", \n",
    "        \"top_k\": 250, \n",
    "        \"top_p\": 1, \n",
    "        \"stop_sequences\": [\"Human\"]}\n",
    "response = bedrock.invoke_model(modelId=\"anthropic.claude-3-sonnet-20240229-v1:0\", body=json.dumps(body))\n",
    "text_resp = json.loads(response['body'].read().decode('utf-8'))\n",
    "print(text_resp['content'][0]['text'])\n",
    "\n"
   ]
  }
 ],
 "metadata": {
  "kernelspec": {
   "display_name": "Python 3 (ipykernel)",
   "language": "python",
   "name": "python3"
  },
  "language_info": {
   "codemirror_mode": {
    "name": "ipython",
    "version": 3
   },
   "file_extension": ".py",
   "mimetype": "text/x-python",
   "name": "python",
   "nbconvert_exporter": "python",
   "pygments_lexer": "ipython3",
   "version": "3.10.14"
  }
 },
 "nbformat": 4,
 "nbformat_minor": 5
}
